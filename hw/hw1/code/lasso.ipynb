{
 "cells": [
  {
   "cell_type": "code",
   "execution_count": 1,
   "metadata": {},
   "outputs": [],
   "source": [
    "using CSV, Images, Plots\n",
    "using Convex, SCS"
   ]
  },
  {
   "cell_type": "code",
   "execution_count": 2,
   "metadata": {},
   "outputs": [
    {
     "data": {
      "text/plain": [
       "read_image (generic function with 1 method)"
      ]
     },
     "execution_count": 2,
     "metadata": {},
     "output_type": "execute_result"
    }
   ],
   "source": [
    "function read_image(filename :: String)\n",
    "    image = CSV.read(filename;header=false)\n",
    "    Y = convert(Matrix, image)\n",
    "    return Y\n",
    "end"
   ]
  },
  {
   "cell_type": "code",
   "execution_count": 3,
   "metadata": {},
   "outputs": [
    {
     "data": {
      "text/plain": [
       "lasso (generic function with 3 methods)"
      ]
     },
     "execution_count": 3,
     "metadata": {},
     "output_type": "execute_result"
    }
   ],
   "source": [
    "function lasso(Y :: Matrix, λ=1.0, p=1)\n",
    "    \n",
    "    solver = SCSSolver(verbose=false)\n",
    "    n, m = size(Y)\n",
    "    Θ = Variable(n, m)\n",
    "    \n",
    "    obj = 0.5 * square(norm(vec(Y - Θ)))\n",
    "    for i in 1:n\n",
    "        for j in 1:m\n",
    "            (j < m) ? (vec0 = abs(Θ[i, j] - Θ[i, j+1])) : (vec0 = 0)\n",
    "            (i < n) ? (vec1 = abs(Θ[i, j] - Θ[i+1, j])) : (vec1 = 0)\n",
    "            obj = obj + λ * norm(vcat(vec0, vec1), p)\n",
    "        end\n",
    "    end\n",
    "    \n",
    "    prob = minimize(obj)\n",
    "    solve!(prob, solver)\n",
    "    return prob.optval, Θ.value\n",
    "end"
   ]
  },
  {
   "cell_type": "code",
   "execution_count": 4,
   "metadata": {},
   "outputs": [
    {
     "data": {
      "image/png": "[encoded data removed]",
      "text/plain": [
       "63×64 Array{Gray{Float64},2} with eltype Gray{Float64}:\n",
       " Gray{Float64}(0.0)       Gray{Float64}(0.0)       …  Gray{Float64}(0.0)\n",
       " Gray{Float64}(0.0)       Gray{Float64}(0.0)          Gray{Float64}(0.0)\n",
       " Gray{Float64}(0.0)       Gray{Float64}(0.0)          Gray{Float64}(0.0)\n",
       " Gray{Float64}(1.0)       Gray{Float64}(1.0)          Gray{Float64}(0.0)\n",
       " Gray{Float64}(1.0)       Gray{Float64}(1.0)          Gray{Float64}(0.0)\n",
       " Gray{Float64}(1.0)       Gray{Float64}(1.0)       …  Gray{Float64}(0.0)\n",
       " Gray{Float64}(1.0)       Gray{Float64}(1.0)          Gray{Float64}(0.0)\n",
       " Gray{Float64}(1.0)       Gray{Float64}(1.0)          Gray{Float64}(0.0)\n",
       " Gray{Float64}(0.996078)  Gray{Float64}(0.996078)     Gray{Float64}(0.0)\n",
       " Gray{Float64}(0.996078)  Gray{Float64}(0.996078)     Gray{Float64}(0.0)\n",
       " Gray{Float64}(0.996078)  Gray{Float64}(0.996078)  …  Gray{Float64}(0.0)\n",
       " Gray{Float64}(0.996078)  Gray{Float64}(1.0)          Gray{Float64}(0.0)\n",
       " Gray{Float64}(0.996078)  Gray{Float64}(1.0)          Gray{Float64}(0.0)\n",
       " ⋮                                                 ⋱                    \n",
       " Gray{Float64}(1.0)       Gray{Float64}(1.0)          Gray{Float64}(0.0)\n",
       " Gray{Float64}(1.0)       Gray{Float64}(1.0)          Gray{Float64}(0.0)\n",
       " Gray{Float64}(1.0)       Gray{Float64}(1.0)          Gray{Float64}(0.0)\n",
       " Gray{Float64}(1.0)       Gray{Float64}(1.0)          Gray{Float64}(0.0)\n",
       " Gray{Float64}(1.0)       Gray{Float64}(1.0)       …  Gray{Float64}(0.0)\n",
       " Gray{Float64}(1.0)       Gray{Float64}(1.0)          Gray{Float64}(0.0)\n",
       " Gray{Float64}(1.0)       Gray{Float64}(1.0)          Gray{Float64}(0.0)\n",
       " Gray{Float64}(1.0)       Gray{Float64}(1.0)          Gray{Float64}(0.0)\n",
       " Gray{Float64}(1.0)       Gray{Float64}(1.0)          Gray{Float64}(0.0)\n",
       " Gray{Float64}(1.0)       Gray{Float64}(1.0)       …  Gray{Float64}(0.0)\n",
       " Gray{Float64}(1.0)       Gray{Float64}(1.0)          Gray{Float64}(0.0)\n",
       " Gray{Float64}(1.0)       Gray{Float64}(1.0)          Gray{Float64}(0.0)"
      ]
     },
     "execution_count": 4,
     "metadata": {},
     "output_type": "execute_result"
    }
   ],
   "source": [
    "toy = read_image(\"../toy.csv\")\n",
    "img = Gray.(toy)"
   ]
  },
  {
   "cell_type": "code",
   "execution_count": 5,
   "metadata": {},
   "outputs": [
    {
     "name": "stderr",
     "output_type": "stream",
     "text": [
      "┌ Warning: Problem status UnknownError; solution may be inaccurate.\n",
      "└ @ Convex /home/oxer/.julia/packages/Convex/81M4N/src/solution.jl:48\n"
     ]
    },
    {
     "name": "stdout",
     "output_type": "stream",
     "text": [
      "199.76472256620897\n"
     ]
    },
    {
     "data": {
      "image/png": "[encoded data removed]",
      "text/plain": [
       "63×64 Array{Gray{Float64},2} with eltype Gray{Float64}:\n",
       " Gray{Float64}(0.325207)  Gray{Float64}(0.325208)  …  Gray{Float64}(0.325246)\n",
       " Gray{Float64}(0.325207)  Gray{Float64}(0.325208)     Gray{Float64}(0.325247)\n",
       " Gray{Float64}(0.325208)  Gray{Float64}(0.325209)     Gray{Float64}(0.325247)\n",
       " Gray{Float64}(0.852593)  Gray{Float64}(0.852592)     Gray{Float64}(0.325247)\n",
       " Gray{Float64}(0.852594)  Gray{Float64}(0.852592)     Gray{Float64}(0.325247)\n",
       " Gray{Float64}(0.852594)  Gray{Float64}(0.852592)  …  Gray{Float64}(0.325248)\n",
       " Gray{Float64}(0.852593)  Gray{Float64}(0.852591)     Gray{Float64}(0.32525) \n",
       " Gray{Float64}(0.852591)  Gray{Float64}(0.852589)     Gray{Float64}(0.325252)\n",
       " Gray{Float64}(0.852587)  Gray{Float64}(0.852586)     Gray{Float64}(0.325254)\n",
       " Gray{Float64}(0.852582)  Gray{Float64}(0.852581)     Gray{Float64}(0.325256)\n",
       " Gray{Float64}(0.852576)  Gray{Float64}(0.852575)  …  Gray{Float64}(0.325258)\n",
       " Gray{Float64}(0.852569)  Gray{Float64}(0.852569)     Gray{Float64}(0.32526) \n",
       " Gray{Float64}(0.852562)  Gray{Float64}(0.852562)     Gray{Float64}(0.325262)\n",
       " ⋮                                                 ⋱                         \n",
       " Gray{Float64}(0.882777)  Gray{Float64}(0.882777)     Gray{Float64}(0.325324)\n",
       " Gray{Float64}(0.882775)  Gray{Float64}(0.882774)     Gray{Float64}(0.325324)\n",
       " Gray{Float64}(0.882772)  Gray{Float64}(0.882771)     Gray{Float64}(0.325323)\n",
       " Gray{Float64}(0.882768)  Gray{Float64}(0.882768)     Gray{Float64}(0.325321)\n",
       " Gray{Float64}(0.882765)  Gray{Float64}(0.882764)  …  Gray{Float64}(0.325318)\n",
       " Gray{Float64}(0.882761)  Gray{Float64}(0.882761)     Gray{Float64}(0.325315)\n",
       " Gray{Float64}(0.882758)  Gray{Float64}(0.882757)     Gray{Float64}(0.325312)\n",
       " Gray{Float64}(0.882753)  Gray{Float64}(0.882753)     Gray{Float64}(0.32531) \n",
       " Gray{Float64}(0.882749)  Gray{Float64}(0.882749)     Gray{Float64}(0.32531) \n",
       " Gray{Float64}(0.882744)  Gray{Float64}(0.882745)  …  Gray{Float64}(0.32531) \n",
       " Gray{Float64}(0.88274)   Gray{Float64}(0.882742)     Gray{Float64}(0.32531) \n",
       " Gray{Float64}(0.882738)  Gray{Float64}(0.88274)      Gray{Float64}(0.32531) "
      ]
     },
     "execution_count": 5,
     "metadata": {},
     "output_type": "execute_result"
    }
   ],
   "source": [
    "opt1, img1 = lasso(toy, 1, 1)\n",
    "println(opt1)\n",
    "Gray.(img1)"
   ]
  },
  {
   "cell_type": "code",
   "execution_count": 6,
   "metadata": {},
   "outputs": [
    {
     "name": "stdout",
     "output_type": "stream",
     "text": [
      "182.20549289681057\n"
     ]
    },
    {
     "name": "stderr",
     "output_type": "stream",
     "text": [
      "┌ Warning: Problem status UnknownError; solution may be inaccurate.\n",
      "└ @ Convex /home/oxer/.julia/packages/Convex/81M4N/src/solution.jl:48\n"
     ]
    },
    {
     "data": {
      "image/png": "[encoded data removed]",
      "text/plain": [
       "63×64 Array{Gray{Float64},2} with eltype Gray{Float64}:\n",
       " Gray{Float64}(0.327778)  Gray{Float64}(0.327775)  …  Gray{Float64}(0.318791)\n",
       " Gray{Float64}(0.327741)  Gray{Float64}(0.327764)     Gray{Float64}(0.31882) \n",
       " Gray{Float64}(0.327702)  Gray{Float64}(0.327627)     Gray{Float64}(0.318836)\n",
       " Gray{Float64}(0.850354)  Gray{Float64}(0.850172)     Gray{Float64}(0.31886) \n",
       " Gray{Float64}(0.85208)   Gray{Float64}(0.851989)     Gray{Float64}(0.318902)\n",
       " Gray{Float64}(0.852269)  Gray{Float64}(0.852221)  …  Gray{Float64}(0.318832)\n",
       " Gray{Float64}(0.852387)  Gray{Float64}(0.852359)     Gray{Float64}(0.318819)\n",
       " Gray{Float64}(0.852491)  Gray{Float64}(0.852473)     Gray{Float64}(0.318864)\n",
       " Gray{Float64}(0.852598)  Gray{Float64}(0.852584)     Gray{Float64}(0.318908)\n",
       " Gray{Float64}(0.852709)  Gray{Float64}(0.852697)     Gray{Float64}(0.318952)\n",
       " Gray{Float64}(0.852824)  Gray{Float64}(0.85281)   …  Gray{Float64}(0.318972)\n",
       " Gray{Float64}(0.852935)  Gray{Float64}(0.852917)     Gray{Float64}(0.319051)\n",
       " Gray{Float64}(0.853034)  Gray{Float64}(0.853007)     Gray{Float64}(0.319106)\n",
       " ⋮                                                 ⋱                         \n",
       " Gray{Float64}(0.907442)  Gray{Float64}(0.907438)     Gray{Float64}(0.322979)\n",
       " Gray{Float64}(0.907325)  Gray{Float64}(0.907323)     Gray{Float64}(0.323082)\n",
       " Gray{Float64}(0.907197)  Gray{Float64}(0.907197)     Gray{Float64}(0.323147)\n",
       " Gray{Float64}(0.907067)  Gray{Float64}(0.907068)     Gray{Float64}(0.323096)\n",
       " Gray{Float64}(0.906927)  Gray{Float64}(0.906925)  …  Gray{Float64}(0.323158)\n",
       " Gray{Float64}(0.906797)  Gray{Float64}(0.906803)     Gray{Float64}(0.323236)\n",
       " Gray{Float64}(0.906675)  Gray{Float64}(0.906676)     Gray{Float64}(0.323329)\n",
       " Gray{Float64}(0.906567)  Gray{Float64}(0.906566)     Gray{Float64}(0.323416)\n",
       " Gray{Float64}(0.90648)   Gray{Float64}(0.906479)     Gray{Float64}(0.323477)\n",
       " Gray{Float64}(0.906409)  Gray{Float64}(0.906407)  …  Gray{Float64}(0.32348) \n",
       " Gray{Float64}(0.906357)  Gray{Float64}(0.906353)     Gray{Float64}(0.323556)\n",
       " Gray{Float64}(0.906328)  Gray{Float64}(0.906327)     Gray{Float64}(0.323697)"
      ]
     },
     "execution_count": 6,
     "metadata": {},
     "output_type": "execute_result"
    }
   ],
   "source": [
    "opt2, img2 = lasso(toy, 1, 2)\n",
    "println(opt2)\n",
    "Gray.(img2)"
   ]
  },
  {
   "cell_type": "code",
   "execution_count": 7,
   "metadata": {},
   "outputs": [
    {
     "data": {
      "image/png": "[encoded data removed]",
      "text/plain": [
       "64×64 Array{Gray{Float64},2} with eltype Gray{Float64}:\n",
       " Gray{Float64}(0.320313)  Gray{Float64}(0.328125)  …  Gray{Float64}(0.40625) \n",
       " Gray{Float64}(0.304688)  Gray{Float64}(0.421875)     Gray{Float64}(0.421875)\n",
       " Gray{Float64}(0.273438)  Gray{Float64}(0.3125)       Gray{Float64}(0.5)     \n",
       " Gray{Float64}(0.316406)  Gray{Float64}(0.414063)     Gray{Float64}(0.390625)\n",
       " Gray{Float64}(0.347656)  Gray{Float64}(0.414063)     Gray{Float64}(0.488281)\n",
       " Gray{Float64}(0.417969)  Gray{Float64}(0.363281)  …  Gray{Float64}(0.429688)\n",
       " Gray{Float64}(0.402344)  Gray{Float64}(0.421875)     Gray{Float64}(0.464844)\n",
       " Gray{Float64}(0.476563)  Gray{Float64}(0.554688)     Gray{Float64}(0.433594)\n",
       " Gray{Float64}(0.421875)  Gray{Float64}(0.449219)     Gray{Float64}(0.460938)\n",
       " Gray{Float64}(0.46875)   Gray{Float64}(0.4375)       Gray{Float64}(0.410156)\n",
       " Gray{Float64}(0.355469)  Gray{Float64}(0.480469)  …  Gray{Float64}(0.484375)\n",
       " Gray{Float64}(0.390625)  Gray{Float64}(0.457031)     Gray{Float64}(0.484375)\n",
       " Gray{Float64}(0.335938)  Gray{Float64}(0.464844)     Gray{Float64}(0.460938)\n",
       " ⋮                                                 ⋱                         \n",
       " Gray{Float64}(0.699219)  Gray{Float64}(0.699219)     Gray{Float64}(0.597656)\n",
       " Gray{Float64}(0.707031)  Gray{Float64}(0.699219)     Gray{Float64}(0.582031)\n",
       " Gray{Float64}(0.699219)  Gray{Float64}(0.695313)     Gray{Float64}(0.5625)  \n",
       " Gray{Float64}(0.695313)  Gray{Float64}(0.6875)    …  Gray{Float64}(0.523438)\n",
       " Gray{Float64}(0.660156)  Gray{Float64}(0.675781)     Gray{Float64}(0.539063)\n",
       " Gray{Float64}(0.628906)  Gray{Float64}(0.621094)     Gray{Float64}(0.480469)\n",
       " Gray{Float64}(0.613281)  Gray{Float64}(0.632813)     Gray{Float64}(0.457031)\n",
       " Gray{Float64}(0.632813)  Gray{Float64}(0.609375)     Gray{Float64}(0.492188)\n",
       " Gray{Float64}(0.589844)  Gray{Float64}(0.582031)  …  Gray{Float64}(0.464844)\n",
       " Gray{Float64}(0.601563)  Gray{Float64}(0.539063)     Gray{Float64}(0.3125)  \n",
       " Gray{Float64}(0.566406)  Gray{Float64}(0.550781)     Gray{Float64}(0.332031)\n",
       " Gray{Float64}(0.480469)  Gray{Float64}(0.492188)     Gray{Float64}(0.320313)"
      ]
     },
     "execution_count": 7,
     "metadata": {},
     "output_type": "execute_result"
    }
   ],
   "source": [
    "baboon = read_image(\"../baboon.csv\")\n",
    "img = Gray.(baboon)"
   ]
  },
  {
   "cell_type": "code",
   "execution_count": null,
   "metadata": {},
   "outputs": [
    {
     "data": {
      "text/plain": [
       "64×64 Array{Float64,2}:\n",
       " 0.499191  0.499192  0.499192  0.499192  …  0.509177  0.509175  0.509174\n",
       " 0.499192  0.499192  0.499193  0.499193     0.509177  0.509175  0.509173\n",
       " 0.499192  0.499193  0.499194  0.499194     0.509177  0.509175  0.509173\n",
       " 0.499193  0.499194  0.499194  0.499195     0.509177  0.509174  0.509172\n",
       " 0.499193  0.499194  0.499195  0.499196     0.509177  0.509174  0.509172\n",
       " 0.499194  0.499194  0.499195  0.499196  …  0.509177  0.509174  0.509173\n",
       " 0.499194  0.499194  0.499195  0.499196     0.509177  0.509175  0.509174\n",
       " 0.499194  0.499195  0.499195  0.499195     0.509177  0.509175  0.509174\n",
       " 0.499194  0.499195  0.499195  0.499195     0.509177  0.509176  0.509175\n",
       " 0.499195  0.499195  0.499196  0.499196     0.509177  0.509176  0.509175\n",
       " 0.499195  0.499196  0.499196  0.499197  …  0.509177  0.509176  0.509175\n",
       " 0.499196  0.499197  0.499198  0.499198     0.509178  0.509176  0.509175\n",
       " 0.499197  0.499198  0.499199  0.499199     0.509178  0.509176  0.509175\n",
       " ⋮                                       ⋱                              \n",
       " 0.509177  0.509177  0.509176  0.509176     0.509198  0.509199  0.5092  \n",
       " 0.509177  0.509177  0.509177  0.509176     0.509198  0.509199  0.509199\n",
       " 0.509178  0.509178  0.509177  0.509177     0.509198  0.509199  0.509199\n",
       " 0.509178  0.509178  0.509178  0.509177  …  0.509198  0.509199  0.509199\n",
       " 0.509179  0.509178  0.509178  0.509177     0.509199  0.509199  0.5092  \n",
       " 0.509179  0.509179  0.509178  0.509177     0.509199  0.509199  0.5092  \n",
       " 0.509179  0.509179  0.509179  0.509178     0.509199  0.509199  0.5092  \n",
       " 0.509179  0.509179  0.509179  0.509178     0.509198  0.509199  0.509199\n",
       " 0.509179  0.509179  0.509179  0.509178  …  0.509197  0.509198  0.509198\n",
       " 0.509179  0.509179  0.509179  0.509179     0.509196  0.509197  0.509197\n",
       " 0.509179  0.509179  0.509179  0.509179     0.509195  0.509196  0.509197\n",
       " 0.509179  0.509179  0.509179  0.509179     0.509194  0.509195  0.509196"
      ]
     },
     "metadata": {},
     "output_type": "display_data"
    }
   ],
   "source": [
    "Θ = []\n",
    "for p in 1:2\n",
    "    for λ in 0:8\n",
    "        opt, img = lasso(baboon, 10^(-λ/4), p)\n",
    "        push!(Θ, (opt, img))\n",
    "        println(\"For $p-norm lasso problem with λ=$(10^(-λ/4)), the optimal value is $opt and the solution image is shown above.\")\n",
    "        display(img)\n",
    "    end\n",
    "end"
   ]
  },
  {
   "cell_type": "code",
   "execution_count": null,
   "metadata": {},
   "outputs": [],
   "source": []
  }
 ],
 "metadata": {
  "@webio": {
   "lastCommId": null,
   "lastKernelId": null
  },
  "kernelspec": {
   "display_name": "Julia 1.1.0",
   "language": "julia",
   "name": "julia-1.1"
  },
  "language_info": {
   "file_extension": ".jl",
   "mimetype": "application/julia",
   "name": "julia",
   "version": "1.1.0"
  }
 },
 "nbformat": 4,
 "nbformat_minor": 2
}
