{
 "cells": [
  {
   "cell_type": "code",
   "execution_count": 1,
   "metadata": {},
   "outputs": [],
   "source": [
    "using CSV, Images\n",
    "using Convex, SCS"
   ]
  },
  {
   "cell_type": "code",
   "execution_count": 2,
   "metadata": {},
   "outputs": [
    {
     "data": {
      "text/plain": [
       "read_image (generic function with 1 method)"
      ]
     },
     "execution_count": 2,
     "metadata": {},
     "output_type": "execute_result"
    }
   ],
   "source": [
    "function read_image(filename :: String)\n",
    "    image = CSV.read(filename;header=false)\n",
    "    Y = convert(Matrix, image)\n",
    "    return Y\n",
    "end"
   ]
  },
  {
   "cell_type": "code",
   "execution_count": 3,
   "metadata": {},
   "outputs": [
    {
     "data": {
      "text/plain": [
       "lasso (generic function with 3 methods)"
      ]
     },
     "execution_count": 3,
     "metadata": {},
     "output_type": "execute_result"
    }
   ],
   "source": [
    "function lasso(Y :: Matrix, λ=1.0, p=1)\n",
    "    \n",
    "    solver = SCSSolver(verbose=false)\n",
    "    n, m = size(Y)\n",
    "    Θ = Variable(n, m)\n",
    "    \n",
    "    obj = 0.5 * square(norm(vec(Y - Θ)))\n",
    "    for i in 1:n\n",
    "        for j in 1:m\n",
    "            (j < m) ? (vec0 = abs(Θ[i, j] - Θ[i, j+1])) : (vec0 = 0)\n",
    "            (i < n) ? (vec1 = abs(Θ[i, j] - Θ[i+1, j])) : (vec1 = 0)\n",
    "            obj = obj + λ * norm(vcat(vec0, vec1), p)\n",
    "        end\n",
    "    end\n",
    "    \n",
    "    prob = minimize(obj)\n",
    "    solve!(prob, solver)\n",
    "    return prob.optval, Θ.value\n",
    "end"
   ]
  },
  {
   "cell_type": "code",
   "execution_count": 4,
   "metadata": {},
   "outputs": [
    {
     "data": {
      "image/png": "[encoded data removed]",
      "text/plain": [
       "63×64 Array{Gray{Float64},2} with eltype Gray{Float64}:\n",
       " Gray{Float64}(0.0)       Gray{Float64}(0.0)       …  Gray{Float64}(0.0)\n",
       " Gray{Float64}(0.0)       Gray{Float64}(0.0)          Gray{Float64}(0.0)\n",
       " Gray{Float64}(0.0)       Gray{Float64}(0.0)          Gray{Float64}(0.0)\n",
       " Gray{Float64}(1.0)       Gray{Float64}(1.0)          Gray{Float64}(0.0)\n",
       " Gray{Float64}(1.0)       Gray{Float64}(1.0)          Gray{Float64}(0.0)\n",
       " Gray{Float64}(1.0)       Gray{Float64}(1.0)       …  Gray{Float64}(0.0)\n",
       " Gray{Float64}(1.0)       Gray{Float64}(1.0)          Gray{Float64}(0.0)\n",
       " Gray{Float64}(1.0)       Gray{Float64}(1.0)          Gray{Float64}(0.0)\n",
       " Gray{Float64}(0.996078)  Gray{Float64}(0.996078)     Gray{Float64}(0.0)\n",
       " Gray{Float64}(0.996078)  Gray{Float64}(0.996078)     Gray{Float64}(0.0)\n",
       " Gray{Float64}(0.996078)  Gray{Float64}(0.996078)  …  Gray{Float64}(0.0)\n",
       " Gray{Float64}(0.996078)  Gray{Float64}(1.0)          Gray{Float64}(0.0)\n",
       " Gray{Float64}(0.996078)  Gray{Float64}(1.0)          Gray{Float64}(0.0)\n",
       " ⋮                                                 ⋱                    \n",
       " Gray{Float64}(1.0)       Gray{Float64}(1.0)          Gray{Float64}(0.0)\n",
       " Gray{Float64}(1.0)       Gray{Float64}(1.0)          Gray{Float64}(0.0)\n",
       " Gray{Float64}(1.0)       Gray{Float64}(1.0)          Gray{Float64}(0.0)\n",
       " Gray{Float64}(1.0)       Gray{Float64}(1.0)          Gray{Float64}(0.0)\n",
       " Gray{Float64}(1.0)       Gray{Float64}(1.0)       …  Gray{Float64}(0.0)\n",
       " Gray{Float64}(1.0)       Gray{Float64}(1.0)          Gray{Float64}(0.0)\n",
       " Gray{Float64}(1.0)       Gray{Float64}(1.0)          Gray{Float64}(0.0)\n",
       " Gray{Float64}(1.0)       Gray{Float64}(1.0)          Gray{Float64}(0.0)\n",
       " Gray{Float64}(1.0)       Gray{Float64}(1.0)          Gray{Float64}(0.0)\n",
       " Gray{Float64}(1.0)       Gray{Float64}(1.0)       …  Gray{Float64}(0.0)\n",
       " Gray{Float64}(1.0)       Gray{Float64}(1.0)          Gray{Float64}(0.0)\n",
       " Gray{Float64}(1.0)       Gray{Float64}(1.0)          Gray{Float64}(0.0)"
      ]
     },
     "execution_count": 4,
     "metadata": {},
     "output_type": "execute_result"
    }
   ],
   "source": [
    "toy = read_image(\"../toy.csv\")\n",
    "img = Gray.(toy)"
   ]
  },
  {
   "cell_type": "code",
   "execution_count": 5,
   "metadata": {},
   "outputs": [
    {
     "name": "stderr",
     "output_type": "stream",
     "text": [
      "┌ Warning: Problem status UnknownError; solution may be inaccurate.\n",
      "└ @ Convex /home/zzz/.julia/packages/Convex/81M4N/src/solution.jl:48\n"
     ]
    },
    {
     "name": "stdout",
     "output_type": "stream",
     "text": [
      "199.76506083723208\n"
     ]
    },
    {
     "data": {
      "image/png": "[encoded data removed]",
      "text/plain": [
       "63×64 Array{Gray{Float64},2} with eltype Gray{Float64}:\n",
       " Gray{Float64}(0.325233)  Gray{Float64}(0.325233)  …  Gray{Float64}(0.325294)\n",
       " Gray{Float64}(0.325233)  Gray{Float64}(0.325233)     Gray{Float64}(0.325293)\n",
       " Gray{Float64}(0.325233)  Gray{Float64}(0.325233)     Gray{Float64}(0.325293)\n",
       " Gray{Float64}(0.852483)  Gray{Float64}(0.852483)     Gray{Float64}(0.325293)\n",
       " Gray{Float64}(0.852483)  Gray{Float64}(0.852483)     Gray{Float64}(0.325293)\n",
       " Gray{Float64}(0.852484)  Gray{Float64}(0.852484)  …  Gray{Float64}(0.325293)\n",
       " Gray{Float64}(0.852485)  Gray{Float64}(0.852485)     Gray{Float64}(0.325293)\n",
       " Gray{Float64}(0.852485)  Gray{Float64}(0.852486)     Gray{Float64}(0.325293)\n",
       " Gray{Float64}(0.852487)  Gray{Float64}(0.852487)     Gray{Float64}(0.325293)\n",
       " Gray{Float64}(0.852488)  Gray{Float64}(0.852487)     Gray{Float64}(0.325293)\n",
       " Gray{Float64}(0.852488)  Gray{Float64}(0.852488)  …  Gray{Float64}(0.325293)\n",
       " Gray{Float64}(0.852489)  Gray{Float64}(0.852489)     Gray{Float64}(0.325293)\n",
       " Gray{Float64}(0.85249)   Gray{Float64}(0.85249)      Gray{Float64}(0.325293)\n",
       " ⋮                                                 ⋱                         \n",
       " Gray{Float64}(0.882743)  Gray{Float64}(0.882743)     Gray{Float64}(0.325276)\n",
       " Gray{Float64}(0.882743)  Gray{Float64}(0.882743)     Gray{Float64}(0.325275)\n",
       " Gray{Float64}(0.882742)  Gray{Float64}(0.882743)     Gray{Float64}(0.325273)\n",
       " Gray{Float64}(0.882742)  Gray{Float64}(0.882742)     Gray{Float64}(0.325271)\n",
       " Gray{Float64}(0.882742)  Gray{Float64}(0.882742)  …  Gray{Float64}(0.32527) \n",
       " Gray{Float64}(0.882742)  Gray{Float64}(0.882742)     Gray{Float64}(0.325269)\n",
       " Gray{Float64}(0.882742)  Gray{Float64}(0.882743)     Gray{Float64}(0.325267)\n",
       " Gray{Float64}(0.882743)  Gray{Float64}(0.882744)     Gray{Float64}(0.325266)\n",
       " Gray{Float64}(0.882744)  Gray{Float64}(0.882744)     Gray{Float64}(0.325266)\n",
       " Gray{Float64}(0.882745)  Gray{Float64}(0.882745)  …  Gray{Float64}(0.325265)\n",
       " Gray{Float64}(0.882746)  Gray{Float64}(0.882746)     Gray{Float64}(0.325265)\n",
       " Gray{Float64}(0.882746)  Gray{Float64}(0.882747)     Gray{Float64}(0.325265)"
      ]
     },
     "execution_count": 5,
     "metadata": {},
     "output_type": "execute_result"
    }
   ],
   "source": [
    "opt1, img1 = lasso(toy, 1, 1)\n",
    "println(opt1)\n",
    "Gray.(img1)"
   ]
  },
  {
   "cell_type": "code",
   "execution_count": 6,
   "metadata": {},
   "outputs": [
    {
     "name": "stdout",
     "output_type": "stream",
     "text": [
      "182.195910735048\n"
     ]
    },
    {
     "name": "stderr",
     "output_type": "stream",
     "text": [
      "┌ Warning: Problem status UnknownError; solution may be inaccurate.\n",
      "└ @ Convex /home/zzz/.julia/packages/Convex/81M4N/src/solution.jl:48\n"
     ]
    },
    {
     "data": {
      "image/png": "[encoded data removed]",
      "text/plain": [
       "63×64 Array{Gray{Float64},2} with eltype Gray{Float64}:\n",
       " Gray{Float64}(0.326241)  Gray{Float64}(0.32624)   …  Gray{Float64}(0.320549)\n",
       " Gray{Float64}(0.32626)   Gray{Float64}(0.326263)     Gray{Float64}(0.320557)\n",
       " Gray{Float64}(0.326314)  Gray{Float64}(0.326325)     Gray{Float64}(0.320575)\n",
       " Gray{Float64}(0.85127)   Gray{Float64}(0.850958)     Gray{Float64}(0.320593)\n",
       " Gray{Float64}(0.852958)  Gray{Float64}(0.852963)     Gray{Float64}(0.320588)\n",
       " Gray{Float64}(0.853042)  Gray{Float64}(0.853039)  …  Gray{Float64}(0.320578)\n",
       " Gray{Float64}(0.853081)  Gray{Float64}(0.85308)      Gray{Float64}(0.320542)\n",
       " Gray{Float64}(0.853103)  Gray{Float64}(0.853105)     Gray{Float64}(0.320549)\n",
       " Gray{Float64}(0.853117)  Gray{Float64}(0.853121)     Gray{Float64}(0.320556)\n",
       " Gray{Float64}(0.853133)  Gray{Float64}(0.853137)     Gray{Float64}(0.32056) \n",
       " Gray{Float64}(0.853149)  Gray{Float64}(0.853154)  …  Gray{Float64}(0.320572)\n",
       " Gray{Float64}(0.853165)  Gray{Float64}(0.853172)     Gray{Float64}(0.320587)\n",
       " Gray{Float64}(0.853179)  Gray{Float64}(0.853185)     Gray{Float64}(0.320589)\n",
       " ⋮                                                 ⋱                         \n",
       " Gray{Float64}(0.905095)  Gray{Float64}(0.905093)     Gray{Float64}(0.321201)\n",
       " Gray{Float64}(0.905099)  Gray{Float64}(0.9051)       Gray{Float64}(0.321203)\n",
       " Gray{Float64}(0.905103)  Gray{Float64}(0.905099)     Gray{Float64}(0.321219)\n",
       " Gray{Float64}(0.9051)    Gray{Float64}(0.905097)     Gray{Float64}(0.321227)\n",
       " Gray{Float64}(0.905096)  Gray{Float64}(0.905092)  …  Gray{Float64}(0.321247)\n",
       " Gray{Float64}(0.905092)  Gray{Float64}(0.905089)     Gray{Float64}(0.321257)\n",
       " Gray{Float64}(0.905087)  Gray{Float64}(0.905084)     Gray{Float64}(0.321255)\n",
       " Gray{Float64}(0.905083)  Gray{Float64}(0.905077)     Gray{Float64}(0.321265)\n",
       " Gray{Float64}(0.905077)  Gray{Float64}(0.905071)     Gray{Float64}(0.321264)\n",
       " Gray{Float64}(0.905072)  Gray{Float64}(0.905068)  …  Gray{Float64}(0.321302)\n",
       " Gray{Float64}(0.905071)  Gray{Float64}(0.905064)     Gray{Float64}(0.321368)\n",
       " Gray{Float64}(0.905066)  Gray{Float64}(0.905064)     Gray{Float64}(0.321458)"
      ]
     },
     "execution_count": 6,
     "metadata": {},
     "output_type": "execute_result"
    }
   ],
   "source": [
    "opt2, img2 = lasso(toy, 1, 2)\n",
    "println(opt2)\n",
    "Gray.(img2)"
   ]
  },
  {
   "cell_type": "code",
   "execution_count": 7,
   "metadata": {},
   "outputs": [
    {
     "data": {
      "image/png": "[encoded data removed]",
      "text/plain": [
       "64×64 Array{Gray{Float64},2} with eltype Gray{Float64}:\n",
       " Gray{Float64}(0.320313)  Gray{Float64}(0.328125)  …  Gray{Float64}(0.40625) \n",
       " Gray{Float64}(0.304688)  Gray{Float64}(0.421875)     Gray{Float64}(0.421875)\n",
       " Gray{Float64}(0.273438)  Gray{Float64}(0.3125)       Gray{Float64}(0.5)     \n",
       " Gray{Float64}(0.316406)  Gray{Float64}(0.414063)     Gray{Float64}(0.390625)\n",
       " Gray{Float64}(0.347656)  Gray{Float64}(0.414063)     Gray{Float64}(0.488281)\n",
       " Gray{Float64}(0.417969)  Gray{Float64}(0.363281)  …  Gray{Float64}(0.429688)\n",
       " Gray{Float64}(0.402344)  Gray{Float64}(0.421875)     Gray{Float64}(0.464844)\n",
       " Gray{Float64}(0.476563)  Gray{Float64}(0.554688)     Gray{Float64}(0.433594)\n",
       " Gray{Float64}(0.421875)  Gray{Float64}(0.449219)     Gray{Float64}(0.460938)\n",
       " Gray{Float64}(0.46875)   Gray{Float64}(0.4375)       Gray{Float64}(0.410156)\n",
       " Gray{Float64}(0.355469)  Gray{Float64}(0.480469)  …  Gray{Float64}(0.484375)\n",
       " Gray{Float64}(0.390625)  Gray{Float64}(0.457031)     Gray{Float64}(0.484375)\n",
       " Gray{Float64}(0.335938)  Gray{Float64}(0.464844)     Gray{Float64}(0.460938)\n",
       " ⋮                                                 ⋱                         \n",
       " Gray{Float64}(0.699219)  Gray{Float64}(0.699219)     Gray{Float64}(0.597656)\n",
       " Gray{Float64}(0.707031)  Gray{Float64}(0.699219)     Gray{Float64}(0.582031)\n",
       " Gray{Float64}(0.699219)  Gray{Float64}(0.695313)     Gray{Float64}(0.5625)  \n",
       " Gray{Float64}(0.695313)  Gray{Float64}(0.6875)    …  Gray{Float64}(0.523438)\n",
       " Gray{Float64}(0.660156)  Gray{Float64}(0.675781)     Gray{Float64}(0.539063)\n",
       " Gray{Float64}(0.628906)  Gray{Float64}(0.621094)     Gray{Float64}(0.480469)\n",
       " Gray{Float64}(0.613281)  Gray{Float64}(0.632813)     Gray{Float64}(0.457031)\n",
       " Gray{Float64}(0.632813)  Gray{Float64}(0.609375)     Gray{Float64}(0.492188)\n",
       " Gray{Float64}(0.589844)  Gray{Float64}(0.582031)  …  Gray{Float64}(0.464844)\n",
       " Gray{Float64}(0.601563)  Gray{Float64}(0.539063)     Gray{Float64}(0.3125)  \n",
       " Gray{Float64}(0.566406)  Gray{Float64}(0.550781)     Gray{Float64}(0.332031)\n",
       " Gray{Float64}(0.480469)  Gray{Float64}(0.492188)     Gray{Float64}(0.320313)"
      ]
     },
     "execution_count": 7,
     "metadata": {},
     "output_type": "execute_result"
    }
   ],
   "source": [
    "baboon = read_image(\"../baboon.csv\")\n",
    "img = Gray.(baboon)"
   ]
  },
  {
   "cell_type": "code",
   "execution_count": 9,
   "metadata": {},
   "outputs": [
    {
     "data": {
      "image/png": "[encoded data removed]",
      "text/plain": [
       "64×64 Array{Gray{Float64},2} with eltype Gray{Float64}:\n",
       " Gray{Float64}(0.499204)  Gray{Float64}(0.499203)  …  Gray{Float64}(0.509171)\n",
       " Gray{Float64}(0.499204)  Gray{Float64}(0.499203)     Gray{Float64}(0.509171)\n",
       " Gray{Float64}(0.499204)  Gray{Float64}(0.499203)     Gray{Float64}(0.509172)\n",
       " Gray{Float64}(0.499203)  Gray{Float64}(0.499203)     Gray{Float64}(0.509172)\n",
       " Gray{Float64}(0.499203)  Gray{Float64}(0.499202)     Gray{Float64}(0.509173)\n",
       " Gray{Float64}(0.499202)  Gray{Float64}(0.499202)  …  Gray{Float64}(0.509174)\n",
       " Gray{Float64}(0.499201)  Gray{Float64}(0.499201)     Gray{Float64}(0.509175)\n",
       " Gray{Float64}(0.4992)    Gray{Float64}(0.4992)       Gray{Float64}(0.509176)\n",
       " Gray{Float64}(0.499199)  Gray{Float64}(0.499199)     Gray{Float64}(0.509177)\n",
       " Gray{Float64}(0.499198)  Gray{Float64}(0.499198)     Gray{Float64}(0.509177)\n",
       " Gray{Float64}(0.499198)  Gray{Float64}(0.499198)  …  Gray{Float64}(0.509177)\n",
       " Gray{Float64}(0.499198)  Gray{Float64}(0.499198)     Gray{Float64}(0.509177)\n",
       " Gray{Float64}(0.499199)  Gray{Float64}(0.499199)     Gray{Float64}(0.509176)\n",
       " ⋮                                                 ⋱                         \n",
       " Gray{Float64}(0.50918)   Gray{Float64}(0.50918)      Gray{Float64}(0.509195)\n",
       " Gray{Float64}(0.50918)   Gray{Float64}(0.509179)     Gray{Float64}(0.509195)\n",
       " Gray{Float64}(0.509179)  Gray{Float64}(0.509179)     Gray{Float64}(0.509195)\n",
       " Gray{Float64}(0.509179)  Gray{Float64}(0.509179)  …  Gray{Float64}(0.509194)\n",
       " Gray{Float64}(0.509179)  Gray{Float64}(0.509179)     Gray{Float64}(0.509194)\n",
       " Gray{Float64}(0.509179)  Gray{Float64}(0.509179)     Gray{Float64}(0.509193)\n",
       " Gray{Float64}(0.509179)  Gray{Float64}(0.509179)     Gray{Float64}(0.509193)\n",
       " Gray{Float64}(0.509178)  Gray{Float64}(0.509178)     Gray{Float64}(0.509193)\n",
       " Gray{Float64}(0.509178)  Gray{Float64}(0.509178)  …  Gray{Float64}(0.509194)\n",
       " Gray{Float64}(0.509178)  Gray{Float64}(0.509178)     Gray{Float64}(0.509195)\n",
       " Gray{Float64}(0.509178)  Gray{Float64}(0.509178)     Gray{Float64}(0.509196)\n",
       " Gray{Float64}(0.509178)  Gray{Float64}(0.509178)     Gray{Float64}(0.509197)"
      ]
     },
     "metadata": {},
     "output_type": "display_data"
    },
    {
     "name": "stdout",
     "output_type": "stream",
     "text": [
      "For 1-norm lasso problem with λ=1.0, the optimal value is 36.59956495865463 and the solution image is shown above.\n"
     ]
    },
    {
     "data": {
      "image/png": "[encoded data removed]",
      "text/plain": [
       "64×64 Array{Gray{Float64},2} with eltype Gray{Float64}:\n",
       " Gray{Float64}(0.464841)  Gray{Float64}(0.464841)  …  Gray{Float64}(0.517663)\n",
       " Gray{Float64}(0.464841)  Gray{Float64}(0.464841)     Gray{Float64}(0.517663)\n",
       " Gray{Float64}(0.464841)  Gray{Float64}(0.464841)     Gray{Float64}(0.517663)\n",
       " Gray{Float64}(0.464841)  Gray{Float64}(0.464841)     Gray{Float64}(0.517663)\n",
       " Gray{Float64}(0.464841)  Gray{Float64}(0.464841)     Gray{Float64}(0.517663)\n",
       " Gray{Float64}(0.464842)  Gray{Float64}(0.464842)  …  Gray{Float64}(0.517662)\n",
       " Gray{Float64}(0.464843)  Gray{Float64}(0.464842)     Gray{Float64}(0.517662)\n",
       " Gray{Float64}(0.464843)  Gray{Float64}(0.464843)     Gray{Float64}(0.517662)\n",
       " Gray{Float64}(0.464844)  Gray{Float64}(0.464844)     Gray{Float64}(0.517661)\n",
       " Gray{Float64}(0.464845)  Gray{Float64}(0.464844)     Gray{Float64}(0.517661)\n",
       " Gray{Float64}(0.464845)  Gray{Float64}(0.464845)  …  Gray{Float64}(0.517661)\n",
       " Gray{Float64}(0.464846)  Gray{Float64}(0.464846)     Gray{Float64}(0.517661)\n",
       " Gray{Float64}(0.464846)  Gray{Float64}(0.464847)     Gray{Float64}(0.517661)\n",
       " ⋮                                                 ⋱                         \n",
       " Gray{Float64}(0.54206)   Gray{Float64}(0.542059)     Gray{Float64}(0.500335)\n",
       " Gray{Float64}(0.542058)  Gray{Float64}(0.542058)     Gray{Float64}(0.500334)\n",
       " Gray{Float64}(0.542057)  Gray{Float64}(0.542057)     Gray{Float64}(0.500334)\n",
       " Gray{Float64}(0.542056)  Gray{Float64}(0.542056)  …  Gray{Float64}(0.500334)\n",
       " Gray{Float64}(0.542056)  Gray{Float64}(0.542055)     Gray{Float64}(0.500334)\n",
       " Gray{Float64}(0.542055)  Gray{Float64}(0.542055)     Gray{Float64}(0.500334)\n",
       " Gray{Float64}(0.542055)  Gray{Float64}(0.542056)     Gray{Float64}(0.500335)\n",
       " Gray{Float64}(0.542054)  Gray{Float64}(0.542053)     Gray{Float64}(0.500336)\n",
       " Gray{Float64}(0.542054)  Gray{Float64}(0.542053)  …  Gray{Float64}(0.500336)\n",
       " Gray{Float64}(0.542053)  Gray{Float64}(0.542047)     Gray{Float64}(0.500335)\n",
       " Gray{Float64}(0.542053)  Gray{Float64}(0.542045)     Gray{Float64}(0.500335)\n",
       " Gray{Float64}(0.542049)  Gray{Float64}(0.542046)     Gray{Float64}(0.500334)"
      ]
     },
     "metadata": {},
     "output_type": "display_data"
    },
    {
     "name": "stdout",
     "output_type": "stream",
     "text": [
      "For 1-norm lasso problem with λ=0.5623413251903491, the optimal value is 34.71682852515979 and the solution image is shown above.\n"
     ]
    },
    {
     "data": {
      "image/png": "[encoded data removed]",
      "text/plain": [
       "64×64 Array{Gray{Float64},2} with eltype Gray{Float64}:\n",
       " Gray{Float64}(0.470796)  Gray{Float64}(0.470796)  …  Gray{Float64}(0.533706)\n",
       " Gray{Float64}(0.470797)  Gray{Float64}(0.470797)     Gray{Float64}(0.533706)\n",
       " Gray{Float64}(0.470799)  Gray{Float64}(0.470799)     Gray{Float64}(0.533706)\n",
       " Gray{Float64}(0.4708)    Gray{Float64}(0.4708)       Gray{Float64}(0.533706)\n",
       " Gray{Float64}(0.4708)    Gray{Float64}(0.4708)       Gray{Float64}(0.533705)\n",
       " Gray{Float64}(0.470799)  Gray{Float64}(0.470799)  …  Gray{Float64}(0.533705)\n",
       " Gray{Float64}(0.470797)  Gray{Float64}(0.470797)     Gray{Float64}(0.533705)\n",
       " Gray{Float64}(0.470795)  Gray{Float64}(0.470796)     Gray{Float64}(0.533704)\n",
       " Gray{Float64}(0.470795)  Gray{Float64}(0.470795)     Gray{Float64}(0.533704)\n",
       " Gray{Float64}(0.470794)  Gray{Float64}(0.470795)     Gray{Float64}(0.533703)\n",
       " Gray{Float64}(0.470795)  Gray{Float64}(0.470795)  …  Gray{Float64}(0.533703)\n",
       " Gray{Float64}(0.470794)  Gray{Float64}(0.470794)     Gray{Float64}(0.533702)\n",
       " Gray{Float64}(0.470794)  Gray{Float64}(0.470793)     Gray{Float64}(0.533702)\n",
       " ⋮                                                 ⋱                         \n",
       " Gray{Float64}(0.5935)    Gray{Float64}(0.5935)       Gray{Float64}(0.486631)\n",
       " Gray{Float64}(0.593501)  Gray{Float64}(0.593501)     Gray{Float64}(0.486631)\n",
       " Gray{Float64}(0.593501)  Gray{Float64}(0.593501)     Gray{Float64}(0.486631)\n",
       " Gray{Float64}(0.593502)  Gray{Float64}(0.593502)  …  Gray{Float64}(0.486631)\n",
       " Gray{Float64}(0.593502)  Gray{Float64}(0.593502)     Gray{Float64}(0.486631)\n",
       " Gray{Float64}(0.584687)  Gray{Float64}(0.584687)     Gray{Float64}(0.486631)\n",
       " Gray{Float64}(0.584687)  Gray{Float64}(0.584687)     Gray{Float64}(0.486631)\n",
       " Gray{Float64}(0.584687)  Gray{Float64}(0.584687)     Gray{Float64}(0.486631)\n",
       " Gray{Float64}(0.584687)  Gray{Float64}(0.584687)  …  Gray{Float64}(0.486632)\n",
       " Gray{Float64}(0.584688)  Gray{Float64}(0.584687)     Gray{Float64}(0.486632)\n",
       " Gray{Float64}(0.584688)  Gray{Float64}(0.584687)     Gray{Float64}(0.486632)\n",
       " Gray{Float64}(0.584688)  Gray{Float64}(0.584688)     Gray{Float64}(0.486632)"
      ]
     },
     "metadata": {},
     "output_type": "display_data"
    },
    {
     "name": "stdout",
     "output_type": "stream",
     "text": [
      "For 1-norm lasso problem with λ=0.31622776601683794, the optimal value is 29.21712609198416 and the solution image is shown above.\n"
     ]
    },
    {
     "data": {
      "image/png": "[encoded data removed]",
      "text/plain": [
       "64×64 Array{Gray{Float64},2} with eltype Gray{Float64}:\n",
       " Gray{Float64}(0.467665)  Gray{Float64}(0.467665)  …  Gray{Float64}(0.548954)\n",
       " Gray{Float64}(0.467665)  Gray{Float64}(0.467665)     Gray{Float64}(0.548954)\n",
       " Gray{Float64}(0.467665)  Gray{Float64}(0.467665)     Gray{Float64}(0.548954)\n",
       " Gray{Float64}(0.467665)  Gray{Float64}(0.467665)     Gray{Float64}(0.548954)\n",
       " Gray{Float64}(0.469773)  Gray{Float64}(0.469773)     Gray{Float64}(0.548954)\n",
       " Gray{Float64}(0.479538)  Gray{Float64}(0.479539)  …  Gray{Float64}(0.548954)\n",
       " Gray{Float64}(0.480244)  Gray{Float64}(0.480244)     Gray{Float64}(0.548954)\n",
       " Gray{Float64}(0.480244)  Gray{Float64}(0.480244)     Gray{Float64}(0.548954)\n",
       " Gray{Float64}(0.480244)  Gray{Float64}(0.480244)     Gray{Float64}(0.548954)\n",
       " Gray{Float64}(0.480243)  Gray{Float64}(0.480244)     Gray{Float64}(0.548954)\n",
       " Gray{Float64}(0.480243)  Gray{Float64}(0.480243)  …  Gray{Float64}(0.548954)\n",
       " Gray{Float64}(0.480243)  Gray{Float64}(0.480243)     Gray{Float64}(0.548954)\n",
       " Gray{Float64}(0.480243)  Gray{Float64}(0.480243)     Gray{Float64}(0.548955)\n",
       " ⋮                                                 ⋱                         \n",
       " Gray{Float64}(0.641225)  Gray{Float64}(0.641225)     Gray{Float64}(0.486634)\n",
       " Gray{Float64}(0.641225)  Gray{Float64}(0.641225)     Gray{Float64}(0.486634)\n",
       " Gray{Float64}(0.641225)  Gray{Float64}(0.641225)     Gray{Float64}(0.486634)\n",
       " Gray{Float64}(0.637184)  Gray{Float64}(0.637184)  …  Gray{Float64}(0.486634)\n",
       " Gray{Float64}(0.614935)  Gray{Float64}(0.614935)     Gray{Float64}(0.486634)\n",
       " Gray{Float64}(0.603175)  Gray{Float64}(0.603175)     Gray{Float64}(0.486634)\n",
       " Gray{Float64}(0.591456)  Gray{Float64}(0.591456)     Gray{Float64}(0.485471)\n",
       " Gray{Float64}(0.587538)  Gray{Float64}(0.587538)     Gray{Float64}(0.477385)\n",
       " Gray{Float64}(0.587538)  Gray{Float64}(0.587538)  …  Gray{Float64}(0.461835)\n",
       " Gray{Float64}(0.587538)  Gray{Float64}(0.587538)     Gray{Float64}(0.448707)\n",
       " Gray{Float64}(0.587538)  Gray{Float64}(0.587537)     Gray{Float64}(0.448707)\n",
       " Gray{Float64}(0.587537)  Gray{Float64}(0.587537)     Gray{Float64}(0.448707)"
      ]
     },
     "metadata": {},
     "output_type": "display_data"
    },
    {
     "name": "stdout",
     "output_type": "stream",
     "text": [
      "For 1-norm lasso problem with λ=0.1778279410038923, the optimal value is 22.60146094248819 and the solution image is shown above.\n"
     ]
    },
    {
     "data": {
      "image/png": "[encoded data removed]",
      "text/plain": [
       "64×64 Array{Gray{Float64},2} with eltype Gray{Float64}:\n",
       " Gray{Float64}(0.408815)  Gray{Float64}(0.408815)  …  Gray{Float64}(0.525148)\n",
       " Gray{Float64}(0.408815)  Gray{Float64}(0.408816)     Gray{Float64}(0.525148)\n",
       " Gray{Float64}(0.408815)  Gray{Float64}(0.408815)     Gray{Float64}(0.525147)\n",
       " Gray{Float64}(0.415233)  Gray{Float64}(0.415234)     Gray{Float64}(0.525146)\n",
       " Gray{Float64}(0.430858)  Gray{Float64}(0.430859)     Gray{Float64}(0.525145)\n",
       " Gray{Float64}(0.440625)  Gray{Float64}(0.440624)  …  Gray{Float64}(0.525143)\n",
       " Gray{Float64}(0.462108)  Gray{Float64}(0.462109)     Gray{Float64}(0.525142)\n",
       " Gray{Float64}(0.467636)  Gray{Float64}(0.467637)     Gray{Float64}(0.525141)\n",
       " Gray{Float64}(0.467635)  Gray{Float64}(0.467635)     Gray{Float64}(0.527538)\n",
       " Gray{Float64}(0.467635)  Gray{Float64}(0.467635)     Gray{Float64}(0.527537)\n",
       " Gray{Float64}(0.467634)  Gray{Float64}(0.467634)  …  Gray{Float64}(0.533157)\n",
       " Gray{Float64}(0.467634)  Gray{Float64}(0.467634)     Gray{Float64}(0.533156)\n",
       " Gray{Float64}(0.467633)  Gray{Float64}(0.467634)     Gray{Float64}(0.533155)\n",
       " ⋮                                                 ⋱                         \n",
       " Gray{Float64}(0.670011)  Gray{Float64}(0.670011)     Gray{Float64}(0.494152)\n",
       " Gray{Float64}(0.670011)  Gray{Float64}(0.670011)     Gray{Float64}(0.494152)\n",
       " Gray{Float64}(0.665431)  Gray{Float64}(0.66543)      Gray{Float64}(0.494152)\n",
       " Gray{Float64}(0.656641)  Gray{Float64}(0.656642)  …  Gray{Float64}(0.494152)\n",
       " Gray{Float64}(0.633204)  Gray{Float64}(0.633203)     Gray{Float64}(0.494153)\n",
       " Gray{Float64}(0.616146)  Gray{Float64}(0.616147)     Gray{Float64}(0.491146)\n",
       " Gray{Float64}(0.604426)  Gray{Float64}(0.604426)     Gray{Float64}(0.476823)\n",
       " Gray{Float64}(0.595224)  Gray{Float64}(0.595224)     Gray{Float64}(0.470384)\n",
       " Gray{Float64}(0.587837)  Gray{Float64}(0.587836)  …  Gray{Float64}(0.454757)\n",
       " Gray{Float64}(0.581166)  Gray{Float64}(0.581165)     Gray{Float64}(0.40436) \n",
       " Gray{Float64}(0.581166)  Gray{Float64}(0.581165)     Gray{Float64}(0.404361)\n",
       " Gray{Float64}(0.581165)  Gray{Float64}(0.581165)     Gray{Float64}(0.404361)"
      ]
     },
     "metadata": {},
     "output_type": "display_data"
    },
    {
     "name": "stdout",
     "output_type": "stream",
     "text": [
      "For 1-norm lasso problem with λ=0.1, the optimal value is 16.651521984834577 and the solution image is shown above.\n"
     ]
    },
    {
     "data": {
      "image/png": "[encoded data removed]",
      "text/plain": [
       "64×64 Array{Gray{Float64},2} with eltype Gray{Float64}:\n",
       " Gray{Float64}(0.371304)  Gray{Float64}(0.371304)  …  Gray{Float64}(0.493836)\n",
       " Gray{Float64}(0.371304)  Gray{Float64}(0.371303)     Gray{Float64}(0.493836)\n",
       " Gray{Float64}(0.371304)  Gray{Float64}(0.371304)     Gray{Float64}(0.493836)\n",
       " Gray{Float64}(0.372641)  Gray{Float64}(0.414062)     Gray{Float64}(0.493836)\n",
       " Gray{Float64}(0.403891)  Gray{Float64}(0.414062)     Gray{Float64}(0.499652)\n",
       " Gray{Float64}(0.418742)  Gray{Float64}(0.418742)  …  Gray{Float64}(0.499652)\n",
       " Gray{Float64}(0.440227)  Gray{Float64}(0.440226)     Gray{Float64}(0.499652)\n",
       " Gray{Float64}(0.466642)  Gray{Float64}(0.466642)     Gray{Float64}(0.499652)\n",
       " Gray{Float64}(0.466643)  Gray{Float64}(0.466642)     Gray{Float64}(0.499652)\n",
       " Gray{Float64}(0.466642)  Gray{Float64}(0.466642)     Gray{Float64}(0.499652)\n",
       " Gray{Float64}(0.435792)  Gray{Float64}(0.466642)  …  Gray{Float64}(0.524897)\n",
       " Gray{Float64}(0.435792)  Gray{Float64}(0.466642)     Gray{Float64}(0.524895)\n",
       " Gray{Float64}(0.435792)  Gray{Float64}(0.466642)     Gray{Float64}(0.524894)\n",
       " ⋮                                                 ⋱                         \n",
       " Gray{Float64}(0.683919)  Gray{Float64}(0.683919)     Gray{Float64}(0.515911)\n",
       " Gray{Float64}(0.683919)  Gray{Float64}(0.683919)     Gray{Float64}(0.515911)\n",
       " Gray{Float64}(0.676371)  Gray{Float64}(0.676371)     Gray{Float64}(0.515912)\n",
       " Gray{Float64}(0.667582)  Gray{Float64}(0.667582)  …  Gray{Float64}(0.508599)\n",
       " Gray{Float64}(0.64662)   Gray{Float64}(0.64662)      Gray{Float64}(0.508599)\n",
       " Gray{Float64}(0.623342)  Gray{Float64}(0.623342)     Gray{Float64}(0.487766)\n",
       " Gray{Float64}(0.611721)  Gray{Float64}(0.611721)     Gray{Float64}(0.472099)\n",
       " Gray{Float64}(0.601956)  Gray{Float64}(0.601956)     Gray{Float64}(0.472099)\n",
       " Gray{Float64}(0.594087)  Gray{Float64}(0.594087)  …  Gray{Float64}(0.450779)\n",
       " Gray{Float64}(0.585029)  Gray{Float64}(0.585029)     Gray{Float64}(0.371471)\n",
       " Gray{Float64}(0.575978)  Gray{Float64}(0.575978)     Gray{Float64}(0.371471)\n",
       " Gray{Float64}(0.56834)   Gray{Float64}(0.56834)      Gray{Float64}(0.371471)"
      ]
     },
     "metadata": {},
     "output_type": "display_data"
    },
    {
     "name": "stdout",
     "output_type": "stream",
     "text": [
      "For 1-norm lasso problem with λ=0.05623413251903491, the optimal value is 11.91352183235471 and the solution image is shown above.\n"
     ]
    },
    {
     "data": {
      "image/png": "[encoded data removed]",
      "text/plain": [
       "64×64 Array{Gray{Float64},2} with eltype Gray{Float64}:\n",
       " Gray{Float64}(0.341642)  Gray{Float64}(0.346075)  …  Gray{Float64}(0.461496)\n",
       " Gray{Float64}(0.341642)  Gray{Float64}(0.367188)     Gray{Float64}(0.461495)\n",
       " Gray{Float64}(0.341642)  Gray{Float64}(0.367187)     Gray{Float64}(0.476935)\n",
       " Gray{Float64}(0.348028)  Gray{Float64}(0.410249)     Gray{Float64}(0.476934)\n",
       " Gray{Float64}(0.379278)  Gray{Float64}(0.410249)     Gray{Float64}(0.479539)\n",
       " Gray{Float64}(0.410249)  Gray{Float64}(0.410249)  …  Gray{Float64}(0.479539)\n",
       " Gray{Float64}(0.42792)   Gray{Float64}(0.42792)      Gray{Float64}(0.479539)\n",
       " Gray{Float64}(0.46627)   Gray{Float64}(0.478689)     Gray{Float64}(0.479539)\n",
       " Gray{Float64}(0.46627)   Gray{Float64}(0.466796)     Gray{Float64}(0.479538)\n",
       " Gray{Float64}(0.46627)   Gray{Float64}(0.466796)     Gray{Float64}(0.479538)\n",
       " Gray{Float64}(0.404669)  Gray{Float64}(0.466797)  …  Gray{Float64}(0.504279)\n",
       " Gray{Float64}(0.404669)  Gray{Float64}(0.466797)     Gray{Float64}(0.504278)\n",
       " Gray{Float64}(0.393322)  Gray{Float64}(0.466797)     Gray{Float64}(0.504278)\n",
       " ⋮                                                 ⋱                         \n",
       " Gray{Float64}(0.689709)  Gray{Float64}(0.68971)      Gray{Float64}(0.537225)\n",
       " Gray{Float64}(0.689709)  Gray{Float64}(0.68971)      Gray{Float64}(0.537226)\n",
       " Gray{Float64}(0.68347)   Gray{Float64}(0.68347)      Gray{Float64}(0.536923)\n",
       " Gray{Float64}(0.675657)  Gray{Float64}(0.675657)  …  Gray{Float64}(0.516803)\n",
       " Gray{Float64}(0.654824)  Gray{Float64}(0.654824)     Gray{Float64}(0.516803)\n",
       " Gray{Float64}(0.626409)  Gray{Float64}(0.626411)     Gray{Float64}(0.495969)\n",
       " Gray{Float64}(0.615822)  Gray{Float64}(0.615823)     Gray{Float64}(0.479042)\n",
       " Gray{Float64}(0.606647)  Gray{Float64}(0.606647)     Gray{Float64}(0.475951)\n",
       " Gray{Float64}(0.59148)   Gray{Float64}(0.59148)   …  Gray{Float64}(0.451078)\n",
       " Gray{Float64}(0.579551)  Gray{Float64}(0.579551)     Gray{Float64}(0.353888)\n",
       " Gray{Float64}(0.573334)  Gray{Float64}(0.573335)     Gray{Float64}(0.353888)\n",
       " Gray{Float64}(0.533761)  Gray{Float64}(0.533761)     Gray{Float64}(0.344216)"
      ]
     },
     "metadata": {},
     "output_type": "display_data"
    },
    {
     "name": "stdout",
     "output_type": "stream",
     "text": [
      "For 1-norm lasso problem with λ=0.03162277660168379, the optimal value is 8.19752325636375 and the solution image is shown above.\n"
     ]
    },
    {
     "data": {
      "image/png": "[encoded data removed]",
      "text/plain": [
       "64×64 Array{Gray{Float64},2} with eltype Gray{Float64}:\n",
       " Gray{Float64}(0.32319)   Gray{Float64}(0.332236)  …  Gray{Float64}(0.440737)\n",
       " Gray{Float64}(0.32319)   Gray{Float64}(0.386308)     Gray{Float64}(0.440737)\n",
       " Gray{Float64}(0.323189)  Gray{Float64}(0.348066)     Gray{Float64}(0.482217)\n",
       " Gray{Float64}(0.334189)  Gray{Float64}(0.406789)     Gray{Float64}(0.443974)\n",
       " Gray{Float64}(0.365439)  Gray{Float64}(0.406789)     Gray{Float64}(0.470498)\n",
       " Gray{Float64}(0.406789)  Gray{Float64}(0.406789)  …  Gray{Float64}(0.465049)\n",
       " Gray{Float64}(0.420127)  Gray{Float64}(0.421875)     Gray{Float64}(0.465049)\n",
       " Gray{Float64}(0.461451)  Gray{Float64}(0.488899)     Gray{Float64}(0.465048)\n",
       " Gray{Float64}(0.461451)  Gray{Float64}(0.461451)     Gray{Float64}(0.465048)\n",
       " Gray{Float64}(0.461451)  Gray{Float64}(0.461451)     Gray{Float64}(0.463505)\n",
       " Gray{Float64}(0.39083)   Gray{Float64}(0.467447)  …  Gray{Float64}(0.490438)\n",
       " Gray{Float64}(0.39083)   Gray{Float64}(0.467448)     Gray{Float64}(0.490439)\n",
       " Gray{Float64}(0.365644)  Gray{Float64}(0.467448)     Gray{Float64}(0.49044) \n",
       " ⋮                                                 ⋱                         \n",
       " Gray{Float64}(0.692404)  Gray{Float64}(0.692404)     Gray{Float64}(0.554278)\n",
       " Gray{Float64}(0.692404)  Gray{Float64}(0.692404)     Gray{Float64}(0.554278)\n",
       " Gray{Float64}(0.688374)  Gray{Float64}(0.688374)     Gray{Float64}(0.544717)\n",
       " Gray{Float64}(0.682515)  Gray{Float64}(0.682515)  …  Gray{Float64}(0.521147)\n",
       " Gray{Float64}(0.659437)  Gray{Float64}(0.659437)     Gray{Float64}(0.521147)\n",
       " Gray{Float64}(0.628506)  Gray{Float64}(0.628506)     Gray{Float64}(0.498252)\n",
       " Gray{Float64}(0.620375)  Gray{Float64}(0.620374)     Gray{Float64}(0.476664)\n",
       " Gray{Float64}(0.615029)  Gray{Float64}(0.609376)     Gray{Float64}(0.476665)\n",
       " Gray{Float64}(0.588712)  Gray{Float64}(0.588712)  …  Gray{Float64}(0.454539)\n",
       " Gray{Float64}(0.583779)  Gray{Float64}(0.571393)     Gray{Float64}(0.340049)\n",
       " Gray{Float64}(0.567485)  Gray{Float64}(0.567485)     Gray{Float64}(0.340049)\n",
       " Gray{Float64}(0.513003)  Gray{Float64}(0.513002)     Gray{Float64}(0.326915)"
      ]
     },
     "metadata": {},
     "output_type": "display_data"
    },
    {
     "name": "stdout",
     "output_type": "stream",
     "text": [
      "For 1-norm lasso problem with λ=0.01778279410038923, the optimal value is 5.424481105411913 and the solution image is shown above.\n"
     ]
    },
    {
     "data": {
      "image/png": "[encoded data removed]",
      "text/plain": [
       "64×64 Array{Gray{Float64},2} with eltype Gray{Float64}:\n",
       " Gray{Float64}(0.320313)  Gray{Float64}(0.324454)  …  Gray{Float64}(0.42625) \n",
       " Gray{Float64}(0.314688)  Gray{Float64}(0.401876)     Gray{Float64}(0.431876)\n",
       " Gray{Float64}(0.303438)  Gray{Float64}(0.3325)       Gray{Float64}(0.487396)\n",
       " Gray{Float64}(0.326407)  Gray{Float64}(0.404063)     Gray{Float64}(0.420625)\n",
       " Gray{Float64}(0.357657)  Gray{Float64}(0.404063)     Gray{Float64}(0.478282)\n",
       " Gray{Float64}(0.407969)  Gray{Float64}(0.403281)  …  Gray{Float64}(0.457267)\n",
       " Gray{Float64}(0.412344)  Gray{Float64}(0.421876)     Gray{Float64}(0.457266)\n",
       " Gray{Float64}(0.466563)  Gray{Float64}(0.514688)     Gray{Float64}(0.457266)\n",
       " Gray{Float64}(0.451875)  Gray{Float64}(0.455156)     Gray{Float64}(0.457266)\n",
       " Gray{Float64}(0.455157)  Gray{Float64}(0.455157)     Gray{Float64}(0.440157)\n",
       " Gray{Float64}(0.383047)  Gray{Float64}(0.467449)  …  Gray{Float64}(0.484376)\n",
       " Gray{Float64}(0.383047)  Gray{Float64}(0.467448)     Gray{Float64}(0.484376)\n",
       " Gray{Float64}(0.350079)  Gray{Float64}(0.467449)     Gray{Float64}(0.480938)\n",
       " ⋮                                                 ⋱                         \n",
       " Gray{Float64}(0.694324)  Gray{Float64}(0.694324)     Gray{Float64}(0.569845)\n",
       " Gray{Float64}(0.694324)  Gray{Float64}(0.694324)     Gray{Float64}(0.569845)\n",
       " Gray{Float64}(0.692267)  Gray{Float64}(0.692266)     Gray{Float64}(0.552501)\n",
       " Gray{Float64}(0.686407)  Gray{Float64}(0.686407)  …  Gray{Float64}(0.523371)\n",
       " Gray{Float64}(0.66297)   Gray{Float64}(0.66297)      Gray{Float64}(0.523371)\n",
       " Gray{Float64}(0.630001)  Gray{Float64}(0.630001)     Gray{Float64}(0.490469)\n",
       " Gray{Float64}(0.622971)  Gray{Float64}(0.622969)     Gray{Float64}(0.47461) \n",
       " Gray{Float64}(0.622814)  Gray{Float64}(0.609532)     Gray{Float64}(0.47461) \n",
       " Gray{Float64}(0.587891)  Gray{Float64}(0.587891)  …  Gray{Float64}(0.456173)\n",
       " Gray{Float64}(0.587891)  Gray{Float64}(0.562084)     Gray{Float64}(0.332266)\n",
       " Gray{Float64}(0.562084)  Gray{Float64}(0.562084)     Gray{Float64}(0.332266)\n",
       " Gray{Float64}(0.500469)  Gray{Float64}(0.502188)     Gray{Float64}(0.320313)"
      ]
     },
     "metadata": {},
     "output_type": "display_data"
    },
    {
     "name": "stdout",
     "output_type": "stream",
     "text": [
      "For 1-norm lasso problem with λ=0.01, the optimal value is 3.446810173293887 and the solution image is shown above.\n"
     ]
    },
    {
     "data": {
      "image/png": "[encoded data removed]",
      "text/plain": [
       "64×64 Array{Gray{Float64},2} with eltype Gray{Float64}:\n",
       " Gray{Float64}(0.489227)  Gray{Float64}(0.48922)   …  Gray{Float64}(0.512748)\n",
       " Gray{Float64}(0.489226)  Gray{Float64}(0.489211)     Gray{Float64}(0.512745)\n",
       " Gray{Float64}(0.489228)  Gray{Float64}(0.489215)     Gray{Float64}(0.512741)\n",
       " Gray{Float64}(0.489221)  Gray{Float64}(0.489206)     Gray{Float64}(0.512751)\n",
       " Gray{Float64}(0.489213)  Gray{Float64}(0.489201)     Gray{Float64}(0.512749)\n",
       " Gray{Float64}(0.489204)  Gray{Float64}(0.4892)    …  Gray{Float64}(0.512757)\n",
       " Gray{Float64}(0.489198)  Gray{Float64}(0.489191)     Gray{Float64}(0.512762)\n",
       " Gray{Float64}(0.489187)  Gray{Float64}(0.489179)     Gray{Float64}(0.512772)\n",
       " Gray{Float64}(0.489188)  Gray{Float64}(0.489183)     Gray{Float64}(0.512777)\n",
       " Gray{Float64}(0.489184)  Gray{Float64}(0.48918)      Gray{Float64}(0.512785)\n",
       " Gray{Float64}(0.489187)  Gray{Float64}(0.489172)  …  Gray{Float64}(0.512784)\n",
       " Gray{Float64}(0.48918)   Gray{Float64}(0.489164)     Gray{Float64}(0.512787)\n",
       " Gray{Float64}(0.489175)  Gray{Float64}(0.489156)     Gray{Float64}(0.512792)\n",
       " ⋮                                                 ⋱                         \n",
       " Gray{Float64}(0.512757)  Gray{Float64}(0.512758)     Gray{Float64}(0.512842)\n",
       " Gray{Float64}(0.512758)  Gray{Float64}(0.51276)      Gray{Float64}(0.512851)\n",
       " Gray{Float64}(0.51276)   Gray{Float64}(0.512762)     Gray{Float64}(0.512863)\n",
       " Gray{Float64}(0.512762)  Gray{Float64}(0.512764)  …  Gray{Float64}(0.512877)\n",
       " Gray{Float64}(0.512767)  Gray{Float64}(0.512766)     Gray{Float64}(0.512887)\n",
       " Gray{Float64}(0.512771)  Gray{Float64}(0.512771)     Gray{Float64}(0.512902)\n",
       " Gray{Float64}(0.512773)  Gray{Float64}(0.512772)     Gray{Float64}(0.512914)\n",
       " Gray{Float64}(0.512773)  Gray{Float64}(0.512774)     Gray{Float64}(0.512923)\n",
       " Gray{Float64}(0.512777)  Gray{Float64}(0.512778)  …  Gray{Float64}(0.512938)\n",
       " Gray{Float64}(0.512779)  Gray{Float64}(0.512783)     Gray{Float64}(0.512962)\n",
       " Gray{Float64}(0.512786)  Gray{Float64}(0.512786)     Gray{Float64}(0.512971)\n",
       " Gray{Float64}(0.512796)  Gray{Float64}(0.512794)     Gray{Float64}(0.512977)"
      ]
     },
     "metadata": {},
     "output_type": "display_data"
    },
    {
     "name": "stdout",
     "output_type": "stream",
     "text": [
      "For 2-norm lasso problem with λ=1.0, the optimal value is 36.42261488992827 and the solution image is shown above.\n"
     ]
    },
    {
     "name": "stderr",
     "output_type": "stream",
     "text": [
      "┌ Warning: Problem status UnknownError; solution may be inaccurate.\n",
      "└ @ Convex /home/zzz/.julia/packages/Convex/81M4N/src/solution.jl:48\n"
     ]
    },
    {
     "data": {
      "image/png": "[encoded data removed]",
      "text/plain": [
       "64×64 Array{Gray{Float64},2} with eltype Gray{Float64}:\n",
       " Gray{Float64}(0.463921)  Gray{Float64}(0.463923)  …  Gray{Float64}(0.520741)\n",
       " Gray{Float64}(0.46392)   Gray{Float64}(0.463923)     Gray{Float64}(0.520741)\n",
       " Gray{Float64}(0.46392)   Gray{Float64}(0.463923)     Gray{Float64}(0.520741)\n",
       " Gray{Float64}(0.463919)  Gray{Float64}(0.463922)     Gray{Float64}(0.52074) \n",
       " Gray{Float64}(0.463918)  Gray{Float64}(0.463921)     Gray{Float64}(0.520739)\n",
       " Gray{Float64}(0.463917)  Gray{Float64}(0.463919)  …  Gray{Float64}(0.520737)\n",
       " Gray{Float64}(0.463915)  Gray{Float64}(0.463917)     Gray{Float64}(0.520735)\n",
       " Gray{Float64}(0.463914)  Gray{Float64}(0.463915)     Gray{Float64}(0.520731)\n",
       " Gray{Float64}(0.463912)  Gray{Float64}(0.463913)     Gray{Float64}(0.520728)\n",
       " Gray{Float64}(0.463911)  Gray{Float64}(0.463912)     Gray{Float64}(0.520725)\n",
       " Gray{Float64}(0.46391)   Gray{Float64}(0.463912)  …  Gray{Float64}(0.520723)\n",
       " Gray{Float64}(0.463911)  Gray{Float64}(0.463913)     Gray{Float64}(0.520721)\n",
       " Gray{Float64}(0.463912)  Gray{Float64}(0.463914)     Gray{Float64}(0.520719)\n",
       " ⋮                                                 ⋱                         \n",
       " Gray{Float64}(0.55351)   Gray{Float64}(0.553511)     Gray{Float64}(0.491715)\n",
       " Gray{Float64}(0.553515)  Gray{Float64}(0.553515)     Gray{Float64}(0.491715)\n",
       " Gray{Float64}(0.553518)  Gray{Float64}(0.553518)     Gray{Float64}(0.491715)\n",
       " Gray{Float64}(0.55352)   Gray{Float64}(0.553521)  …  Gray{Float64}(0.491716)\n",
       " Gray{Float64}(0.553522)  Gray{Float64}(0.553523)     Gray{Float64}(0.491716)\n",
       " Gray{Float64}(0.553523)  Gray{Float64}(0.553524)     Gray{Float64}(0.491716)\n",
       " Gray{Float64}(0.553525)  Gray{Float64}(0.553525)     Gray{Float64}(0.491716)\n",
       " Gray{Float64}(0.553526)  Gray{Float64}(0.553526)     Gray{Float64}(0.491716)\n",
       " Gray{Float64}(0.553527)  Gray{Float64}(0.553527)  …  Gray{Float64}(0.491715)\n",
       " Gray{Float64}(0.553527)  Gray{Float64}(0.553527)     Gray{Float64}(0.491713)\n",
       " Gray{Float64}(0.553527)  Gray{Float64}(0.553527)     Gray{Float64}(0.491712)\n",
       " Gray{Float64}(0.553526)  Gray{Float64}(0.553527)     Gray{Float64}(0.491711)"
      ]
     },
     "metadata": {},
     "output_type": "display_data"
    },
    {
     "name": "stdout",
     "output_type": "stream",
     "text": [
      "For 2-norm lasso problem with λ=0.5623413251903491, the optimal value is 33.77584638066108 and the solution image is shown above.\n"
     ]
    },
    {
     "name": "stderr",
     "output_type": "stream",
     "text": [
      "┌ Warning: Problem status UnknownError; solution may be inaccurate.\n",
      "└ @ Convex /home/zzz/.julia/packages/Convex/81M4N/src/solution.jl:48\n"
     ]
    },
    {
     "data": {
      "image/png": "[encoded data removed]",
      "text/plain": [
       "64×64 Array{Gray{Float64},2} with eltype Gray{Float64}:\n",
       " Gray{Float64}(0.475399)  Gray{Float64}(0.475397)  …  Gray{Float64}(0.538904)\n",
       " Gray{Float64}(0.475398)  Gray{Float64}(0.475395)     Gray{Float64}(0.538903)\n",
       " Gray{Float64}(0.475398)  Gray{Float64}(0.475395)     Gray{Float64}(0.538902)\n",
       " Gray{Float64}(0.475396)  Gray{Float64}(0.475393)     Gray{Float64}(0.538903)\n",
       " Gray{Float64}(0.475394)  Gray{Float64}(0.475391)     Gray{Float64}(0.538902)\n",
       " Gray{Float64}(0.475391)  Gray{Float64}(0.47539)   …  Gray{Float64}(0.538902)\n",
       " Gray{Float64}(0.475389)  Gray{Float64}(0.475387)     Gray{Float64}(0.538902)\n",
       " Gray{Float64}(0.475386)  Gray{Float64}(0.475384)     Gray{Float64}(0.538903)\n",
       " Gray{Float64}(0.475385)  Gray{Float64}(0.475384)     Gray{Float64}(0.538903)\n",
       " Gray{Float64}(0.475383)  Gray{Float64}(0.475383)     Gray{Float64}(0.538902)\n",
       " Gray{Float64}(0.475382)  Gray{Float64}(0.475381)  …  Gray{Float64}(0.5389)  \n",
       " Gray{Float64}(0.475357)  Gray{Float64}(0.475378)     Gray{Float64}(0.538899)\n",
       " Gray{Float64}(0.475327)  Gray{Float64}(0.475353)     Gray{Float64}(0.538898)\n",
       " ⋮                                                 ⋱                         \n",
       " Gray{Float64}(0.608673)  Gray{Float64}(0.608673)     Gray{Float64}(0.478038)\n",
       " Gray{Float64}(0.608672)  Gray{Float64}(0.608671)     Gray{Float64}(0.47804) \n",
       " Gray{Float64}(0.608671)  Gray{Float64}(0.608668)     Gray{Float64}(0.478042)\n",
       " Gray{Float64}(0.608667)  Gray{Float64}(0.608253)  …  Gray{Float64}(0.478045)\n",
       " Gray{Float64}(0.606828)  Gray{Float64}(0.602757)     Gray{Float64}(0.478047)\n",
       " Gray{Float64}(0.580991)  Gray{Float64}(0.580985)     Gray{Float64}(0.47805) \n",
       " Gray{Float64}(0.580987)  Gray{Float64}(0.580866)     Gray{Float64}(0.478052)\n",
       " Gray{Float64}(0.579467)  Gray{Float64}(0.579467)     Gray{Float64}(0.478055)\n",
       " Gray{Float64}(0.579466)  Gray{Float64}(0.579466)  …  Gray{Float64}(0.478058)\n",
       " Gray{Float64}(0.579466)  Gray{Float64}(0.579467)     Gray{Float64}(0.478064)\n",
       " Gray{Float64}(0.579468)  Gray{Float64}(0.579468)     Gray{Float64}(0.478067)\n",
       " Gray{Float64}(0.57947)   Gray{Float64}(0.57947)      Gray{Float64}(0.478068)"
      ]
     },
     "metadata": {},
     "output_type": "display_data"
    },
    {
     "name": "stdout",
     "output_type": "stream",
     "text": [
      "For 2-norm lasso problem with λ=0.31622776601683794, the optimal value is 27.72448963616958 and the solution image is shown above.\n"
     ]
    },
    {
     "name": "stderr",
     "output_type": "stream",
     "text": [
      "┌ Warning: Problem status UnknownError; solution may be inaccurate.\n",
      "└ @ Convex /home/zzz/.julia/packages/Convex/81M4N/src/solution.jl:48\n"
     ]
    },
    {
     "data": {
      "image/png": "[encoded data removed]",
      "text/plain": [
       "64×64 Array{Gray{Float64},2} with eltype Gray{Float64}:\n",
       " Gray{Float64}(0.434551)  Gray{Float64}(0.434552)  …  Gray{Float64}(0.549323)\n",
       " Gray{Float64}(0.434551)  Gray{Float64}(0.434553)     Gray{Float64}(0.549324)\n",
       " Gray{Float64}(0.43455)   Gray{Float64}(0.43473)      Gray{Float64}(0.549325)\n",
       " Gray{Float64}(0.434754)  Gray{Float64}(0.454914)     Gray{Float64}(0.549325)\n",
       " Gray{Float64}(0.457359)  Gray{Float64}(0.469623)     Gray{Float64}(0.549327)\n",
       " Gray{Float64}(0.478988)  Gray{Float64}(0.478989)  …  Gray{Float64}(0.549329)\n",
       " Gray{Float64}(0.478986)  Gray{Float64}(0.485587)     Gray{Float64}(0.549331)\n",
       " Gray{Float64}(0.489855)  Gray{Float64}(0.489855)     Gray{Float64}(0.549332)\n",
       " Gray{Float64}(0.489855)  Gray{Float64}(0.490073)     Gray{Float64}(0.549332)\n",
       " Gray{Float64}(0.489731)  Gray{Float64}(0.490073)     Gray{Float64}(0.54933) \n",
       " Gray{Float64}(0.489112)  Gray{Float64}(0.490193)  …  Gray{Float64}(0.549329)\n",
       " Gray{Float64}(0.487833)  Gray{Float64}(0.489828)     Gray{Float64}(0.549327)\n",
       " Gray{Float64}(0.485086)  Gray{Float64}(0.488141)     Gray{Float64}(0.549325)\n",
       " ⋮                                                 ⋱                         \n",
       " Gray{Float64}(0.650513)  Gray{Float64}(0.650513)     Gray{Float64}(0.485008)\n",
       " Gray{Float64}(0.650514)  Gray{Float64}(0.650514)     Gray{Float64}(0.485008)\n",
       " Gray{Float64}(0.650516)  Gray{Float64}(0.650324)     Gray{Float64}(0.485008)\n",
       " Gray{Float64}(0.649842)  Gray{Float64}(0.645624)  …  Gray{Float64}(0.485007)\n",
       " Gray{Float64}(0.633397)  Gray{Float64}(0.629233)     Gray{Float64}(0.485009)\n",
       " Gray{Float64}(0.600937)  Gray{Float64}(0.600906)     Gray{Float64}(0.484812)\n",
       " Gray{Float64}(0.600719)  Gray{Float64}(0.600724)     Gray{Float64}(0.476998)\n",
       " Gray{Float64}(0.600719)  Gray{Float64}(0.596808)     Gray{Float64}(0.47506) \n",
       " Gray{Float64}(0.581417)  Gray{Float64}(0.581415)  …  Gray{Float64}(0.452962)\n",
       " Gray{Float64}(0.581416)  Gray{Float64}(0.581415)     Gray{Float64}(0.443083)\n",
       " Gray{Float64}(0.581415)  Gray{Float64}(0.581415)     Gray{Float64}(0.443085)\n",
       " Gray{Float64}(0.581414)  Gray{Float64}(0.581414)     Gray{Float64}(0.443085)"
      ]
     },
     "metadata": {},
     "output_type": "display_data"
    },
    {
     "name": "stdout",
     "output_type": "stream",
     "text": [
      "For 2-norm lasso problem with λ=0.1778279410038923, the optimal value is 21.085202998806004 and the solution image is shown above.\n"
     ]
    },
    {
     "name": "stderr",
     "output_type": "stream",
     "text": [
      "┌ Warning: Problem status UnknownError; solution may be inaccurate.\n",
      "└ @ Convex /home/zzz/.julia/packages/Convex/81M4N/src/solution.jl:48\n"
     ]
    },
    {
     "data": {
      "image/png": "[encoded data removed]",
      "text/plain": [
       "64×64 Array{Gray{Float64},2} with eltype Gray{Float64}:\n",
       " Gray{Float64}(0.386221)  Gray{Float64}(0.386221)  …  Gray{Float64}(0.5197)  \n",
       " Gray{Float64}(0.386221)  Gray{Float64}(0.386221)     Gray{Float64}(0.519712)\n",
       " Gray{Float64}(0.386221)  Gray{Float64}(0.386221)     Gray{Float64}(0.519704)\n",
       " Gray{Float64}(0.386221)  Gray{Float64}(0.424058)     Gray{Float64}(0.519705)\n",
       " Gray{Float64}(0.419962)  Gray{Float64}(0.440122)     Gray{Float64}(0.519706)\n",
       " Gray{Float64}(0.449761)  Gray{Float64}(0.449762)  …  Gray{Float64}(0.519708)\n",
       " Gray{Float64}(0.449762)  Gray{Float64}(0.466254)     Gray{Float64}(0.519712)\n",
       " Gray{Float64}(0.477974)  Gray{Float64}(0.48)         Gray{Float64}(0.519716)\n",
       " Gray{Float64}(0.477737)  Gray{Float64}(0.479291)     Gray{Float64}(0.51972) \n",
       " Gray{Float64}(0.476952)  Gray{Float64}(0.479291)     Gray{Float64}(0.519724)\n",
       " Gray{Float64}(0.472884)  Gray{Float64}(0.479336)  …  Gray{Float64}(0.53337) \n",
       " Gray{Float64}(0.468781)  Gray{Float64}(0.477314)     Gray{Float64}(0.533373)\n",
       " Gray{Float64}(0.4628)    Gray{Float64}(0.475254)     Gray{Float64}(0.533375)\n",
       " ⋮                                                 ⋱                         \n",
       " Gray{Float64}(0.673601)  Gray{Float64}(0.673601)     Gray{Float64}(0.496271)\n",
       " Gray{Float64}(0.673602)  Gray{Float64}(0.673602)     Gray{Float64}(0.496272)\n",
       " Gray{Float64}(0.673603)  Gray{Float64}(0.672561)     Gray{Float64}(0.496272)\n",
       " Gray{Float64}(0.669483)  Gray{Float64}(0.663706)  …  Gray{Float64}(0.496273)\n",
       " Gray{Float64}(0.648261)  Gray{Float64}(0.645293)     Gray{Float64}(0.496271)\n",
       " Gray{Float64}(0.614548)  Gray{Float64}(0.614343)     Gray{Float64}(0.493304)\n",
       " Gray{Float64}(0.613204)  Gray{Float64}(0.613204)     Gray{Float64}(0.476154)\n",
       " Gray{Float64}(0.613204)  Gray{Float64}(0.606733)     Gray{Float64}(0.476157)\n",
       " Gray{Float64}(0.582908)  Gray{Float64}(0.582859)  …  Gray{Float64}(0.456051)\n",
       " Gray{Float64}(0.5819)    Gray{Float64}(0.581303)     Gray{Float64}(0.395381)\n",
       " Gray{Float64}(0.579253)  Gray{Float64}(0.579253)     Gray{Float64}(0.395379)\n",
       " Gray{Float64}(0.579253)  Gray{Float64}(0.579253)     Gray{Float64}(0.395379)"
      ]
     },
     "metadata": {},
     "output_type": "display_data"
    },
    {
     "name": "stdout",
     "output_type": "stream",
     "text": [
      "For 2-norm lasso problem with λ=0.1, the optimal value is 15.345543079785996 and the solution image is shown above.\n"
     ]
    },
    {
     "data": {
      "image/png": "[encoded data removed]",
      "text/plain": [
       "64×64 Array{Gray{Float64},2} with eltype Gray{Float64}:\n",
       " Gray{Float64}(0.357614)  Gray{Float64}(0.357614)  …  Gray{Float64}(0.488609)\n",
       " Gray{Float64}(0.357614)  Gray{Float64}(0.364491)     Gray{Float64}(0.488611)\n",
       " Gray{Float64}(0.356609)  Gray{Float64}(0.356609)     Gray{Float64}(0.489474)\n",
       " Gray{Float64}(0.356609)  Gray{Float64}(0.410804)     Gray{Float64}(0.489477)\n",
       " Gray{Float64}(0.394623)  Gray{Float64}(0.42354)      Gray{Float64}(0.49456) \n",
       " Gray{Float64}(0.428728)  Gray{Float64}(0.428728)  …  Gray{Float64}(0.494562)\n",
       " Gray{Float64}(0.428728)  Gray{Float64}(0.45136)      Gray{Float64}(0.494563)\n",
       " Gray{Float64}(0.468971)  Gray{Float64}(0.478466)     Gray{Float64}(0.494563)\n",
       " Gray{Float64}(0.466672)  Gray{Float64}(0.474153)     Gray{Float64}(0.494563)\n",
       " Gray{Float64}(0.463707)  Gray{Float64}(0.474153)     Gray{Float64}(0.494563)\n",
       " Gray{Float64}(0.442386)  Gray{Float64}(0.474154)  …  Gray{Float64}(0.516894)\n",
       " Gray{Float64}(0.432219)  Gray{Float64}(0.471036)     Gray{Float64}(0.516894)\n",
       " Gray{Float64}(0.412362)  Gray{Float64}(0.472258)     Gray{Float64}(0.516894)\n",
       " ⋮                                                 ⋱                         \n",
       " Gray{Float64}(0.683516)  Gray{Float64}(0.683515)     Gray{Float64}(0.522038)\n",
       " Gray{Float64}(0.683516)  Gray{Float64}(0.683516)     Gray{Float64}(0.522035)\n",
       " Gray{Float64}(0.683516)  Gray{Float64}(0.683074)     Gray{Float64}(0.522034)\n",
       " Gray{Float64}(0.681087)  Gray{Float64}(0.674016)  …  Gray{Float64}(0.512921)\n",
       " Gray{Float64}(0.65641)   Gray{Float64}(0.655458)     Gray{Float64}(0.512923)\n",
       " Gray{Float64}(0.622802)  Gray{Float64}(0.622393)     Gray{Float64}(0.492375)\n",
       " Gray{Float64}(0.619266)  Gray{Float64}(0.619266)     Gray{Float64}(0.477161)\n",
       " Gray{Float64}(0.619266)  Gray{Float64}(0.610776)     Gray{Float64}(0.477163)\n",
       " Gray{Float64}(0.588042)  Gray{Float64}(0.588051)  …  Gray{Float64}(0.458027)\n",
       " Gray{Float64}(0.584932)  Gray{Float64}(0.57817)      Gray{Float64}(0.36362) \n",
       " Gray{Float64}(0.567658)  Gray{Float64}(0.568028)     Gray{Float64}(0.363621)\n",
       " Gray{Float64}(0.56343)   Gray{Float64}(0.56343)      Gray{Float64}(0.363621)"
      ]
     },
     "metadata": {},
     "output_type": "display_data"
    },
    {
     "name": "stdout",
     "output_type": "stream",
     "text": [
      "For 2-norm lasso problem with λ=0.05623413251903491, the optimal value is 10.786650678300848 and the solution image is shown above.\n"
     ]
    },
    {
     "data": {
      "image/png": "[encoded data removed]",
      "text/plain": [
       "64×64 Array{Gray{Float64},2} with eltype Gray{Float64}:\n",
       " Gray{Float64}(0.336882)  Gray{Float64}(0.336881)  …  Gray{Float64}(0.456957)\n",
       " Gray{Float64}(0.336881)  Gray{Float64}(0.37716)      Gray{Float64}(0.456957)\n",
       " Gray{Float64}(0.326082)  Gray{Float64}(0.342869)     Gray{Float64}(0.474088)\n",
       " Gray{Float64}(0.339553)  Gray{Float64}(0.408026)     Gray{Float64}(0.474088)\n",
       " Gray{Float64}(0.377151)  Gray{Float64}(0.416407)     Gray{Float64}(0.475071)\n",
       " Gray{Float64}(0.415165)  Gray{Float64}(0.415165)  …  Gray{Float64}(0.475071)\n",
       " Gray{Float64}(0.415165)  Gray{Float64}(0.440886)     Gray{Float64}(0.475071)\n",
       " Gray{Float64}(0.465504)  Gray{Float64}(0.483426)     Gray{Float64}(0.475071)\n",
       " Gray{Float64}(0.458074)  Gray{Float64}(0.469603)     Gray{Float64}(0.475072)\n",
       " Gray{Float64}(0.455539)  Gray{Float64}(0.469479)     Gray{Float64}(0.475072)\n",
       " Gray{Float64}(0.413699)  Gray{Float64}(0.469479)  …  Gray{Float64}(0.501329)\n",
       " Gray{Float64}(0.407974)  Gray{Float64}(0.466082)     Gray{Float64}(0.50133) \n",
       " Gray{Float64}(0.378884)  Gray{Float64}(0.470569)     Gray{Float64}(0.50133) \n",
       " ⋮                                                 ⋱                         \n",
       " Gray{Float64}(0.689303)  Gray{Float64}(0.689303)     Gray{Float64}(0.542455)\n",
       " Gray{Float64}(0.689304)  Gray{Float64}(0.689305)     Gray{Float64}(0.542452)\n",
       " Gray{Float64}(0.689305)  Gray{Float64}(0.688943)     Gray{Float64}(0.542451)\n",
       " Gray{Float64}(0.687324)  Gray{Float64}(0.679664)  …  Gray{Float64}(0.518614)\n",
       " Gray{Float64}(0.66048)   Gray{Float64}(0.662063)     Gray{Float64}(0.518616)\n",
       " Gray{Float64}(0.627196)  Gray{Float64}(0.626928)     Gray{Float64}(0.494317)\n",
       " Gray{Float64}(0.622285)  Gray{Float64}(0.622285)     Gray{Float64}(0.477646)\n",
       " Gray{Float64}(0.622285)  Gray{Float64}(0.612063)     Gray{Float64}(0.477646)\n",
       " Gray{Float64}(0.588145)  Gray{Float64}(0.588145)  …  Gray{Float64}(0.459798)\n",
       " Gray{Float64}(0.588145)  Gray{Float64}(0.571706)     Gray{Float64}(0.344322)\n",
       " Gray{Float64}(0.560188)  Gray{Float64}(0.558554)     Gray{Float64}(0.344322)\n",
       " Gray{Float64}(0.53322)   Gray{Float64}(0.53322)      Gray{Float64}(0.341094)"
      ]
     },
     "metadata": {},
     "output_type": "display_data"
    },
    {
     "name": "stdout",
     "output_type": "stream",
     "text": [
      "For 2-norm lasso problem with λ=0.03162277660168379, the optimal value is 7.262279843486341 and the solution image is shown above.\n"
     ]
    },
    {
     "data": {
      "image/png": "[encoded data removed]",
      "text/plain": [
       "64×64 Array{Gray{Float64},2} with eltype Gray{Float64}:\n",
       " Gray{Float64}(0.32677)   Gray{Float64}(0.329663)  …  Gray{Float64}(0.435321)\n",
       " Gray{Float64}(0.325091)  Gray{Float64}(0.390851)     Gray{Float64}(0.439405)\n",
       " Gray{Float64}(0.303923)  Gray{Float64}(0.333755)     Gray{Float64}(0.477263)\n",
       " Gray{Float64}(0.328633)  Gray{Float64}(0.408748)     Gray{Float64}(0.443479)\n",
       " Gray{Float64}(0.365331)  Gray{Float64}(0.413372)     Gray{Float64}(0.464856)\n",
       " Gray{Float64}(0.406831)  Gray{Float64}(0.40137)   …  Gray{Float64}(0.463546)\n",
       " Gray{Float64}(0.41251)   Gray{Float64}(0.433763)     Gray{Float64}(0.463548)\n",
       " Gray{Float64}(0.467742)  Gray{Float64}(0.502497)     Gray{Float64}(0.461592)\n",
       " Gray{Float64}(0.450041)  Gray{Float64}(0.462787)     Gray{Float64}(0.461592)\n",
       " Gray{Float64}(0.451841)  Gray{Float64}(0.462431)     Gray{Float64}(0.461592)\n",
       " Gray{Float64}(0.391862)  Gray{Float64}(0.464767)  …  Gray{Float64}(0.488913)\n",
       " Gray{Float64}(0.396528)  Gray{Float64}(0.462053)     Gray{Float64}(0.488912)\n",
       " Gray{Float64}(0.360586)  Gray{Float64}(0.469356)     Gray{Float64}(0.488912)\n",
       " ⋮                                                 ⋱                         \n",
       " Gray{Float64}(0.692768)  Gray{Float64}(0.692768)     Gray{Float64}(0.557593)\n",
       " Gray{Float64}(0.692766)  Gray{Float64}(0.692767)     Gray{Float64}(0.557593)\n",
       " Gray{Float64}(0.692767)  Gray{Float64}(0.692321)     Gray{Float64}(0.550278)\n",
       " Gray{Float64}(0.690762)  Gray{Float64}(0.682751)  …  Gray{Float64}(0.522389)\n",
       " Gray{Float64}(0.662032)  Gray{Float64}(0.666424)     Gray{Float64}(0.522389)\n",
       " Gray{Float64}(0.629369)  Gray{Float64}(0.629567)     Gray{Float64}(0.493014)\n",
       " Gray{Float64}(0.62359)   Gray{Float64}(0.623591)     Gray{Float64}(0.476885)\n",
       " Gray{Float64}(0.62359)   Gray{Float64}(0.611982)     Gray{Float64}(0.476885)\n",
       " Gray{Float64}(0.588384)  Gray{Float64}(0.588382)  …  Gray{Float64}(0.461338)\n",
       " Gray{Float64}(0.588387)  Gray{Float64}(0.565487)     Gray{Float64}(0.33507) \n",
       " Gray{Float64}(0.560264)  Gray{Float64}(0.554069)     Gray{Float64}(0.335069)\n",
       " Gray{Float64}(0.512647)  Gray{Float64}(0.512647)     Gray{Float64}(0.32565) "
      ]
     },
     "metadata": {},
     "output_type": "display_data"
    },
    {
     "name": "stdout",
     "output_type": "stream",
     "text": [
      "For 2-norm lasso problem with λ=0.01778279410038923, the optimal value is 4.69310885180088 and the solution image is shown above.\n"
     ]
    },
    {
     "data": {
      "image/png": "[encoded data removed]",
      "text/plain": [
       "64×64 Array{Gray{Float64},2} with eltype Gray{Float64}:\n",
       " Gray{Float64}(0.322151)  Gray{Float64}(0.32846)   …  Gray{Float64}(0.421858)\n",
       " Gray{Float64}(0.317304)  Gray{Float64}(0.401985)     Gray{Float64}(0.431743)\n",
       " Gray{Float64}(0.290571)  Gray{Float64}(0.326156)     Gray{Float64}(0.480985)\n",
       " Gray{Float64}(0.322717)  Gray{Float64}(0.410279)     Gray{Float64}(0.420491)\n",
       " Gray{Float64}(0.358022)  Gray{Float64}(0.412702)     Gray{Float64}(0.47263) \n",
       " Gray{Float64}(0.405374)  Gray{Float64}(0.388595)  …  Gray{Float64}(0.456201)\n",
       " Gray{Float64}(0.411372)  Gray{Float64}(0.428647)     Gray{Float64}(0.456198)\n",
       " Gray{Float64}(0.47077)   Gray{Float64}(0.523943)     Gray{Float64}(0.453959)\n",
       " Gray{Float64}(0.440835)  Gray{Float64}(0.455679)     Gray{Float64}(0.453959)\n",
       " Gray{Float64}(0.452689)  Gray{Float64}(0.45403)      Gray{Float64}(0.439965)\n",
       " Gray{Float64}(0.376972)  Gray{Float64}(0.469082)  …  Gray{Float64}(0.483301)\n",
       " Gray{Float64}(0.392296)  Gray{Float64}(0.461144)     Gray{Float64}(0.483302)\n",
       " Gray{Float64}(0.350181)  Gray{Float64}(0.46826)      Gray{Float64}(0.480097)\n",
       " ⋮                                                 ⋱                         \n",
       " Gray{Float64}(0.695426)  Gray{Float64}(0.69544)      Gray{Float64}(0.570664)\n",
       " Gray{Float64}(0.695416)  Gray{Float64}(0.695403)     Gray{Float64}(0.570661)\n",
       " Gray{Float64}(0.695418)  Gray{Float64}(0.69442)      Gray{Float64}(0.55486) \n",
       " Gray{Float64}(0.692525)  Gray{Float64}(0.684449)  …  Gray{Float64}(0.525607)\n",
       " Gray{Float64}(0.662242)  Gray{Float64}(0.669485)     Gray{Float64}(0.525606)\n",
       " Gray{Float64}(0.629861)  Gray{Float64}(0.630499)     Gray{Float64}(0.489051)\n",
       " Gray{Float64}(0.624248)  Gray{Float64}(0.624248)     Gray{Float64}(0.476021)\n",
       " Gray{Float64}(0.624248)  Gray{Float64}(0.611268)     Gray{Float64}(0.476023)\n",
       " Gray{Float64}(0.589104)  Gray{Float64}(0.589103)  …  Gray{Float64}(0.462524)\n",
       " Gray{Float64}(0.589104)  Gray{Float64}(0.559375)     Gray{Float64}(0.329773)\n",
       " Gray{Float64}(0.561644)  Gray{Float64}(0.551123)     Gray{Float64}(0.329774)\n",
       " Gray{Float64}(0.500324)  Gray{Float64}(0.50177)      Gray{Float64}(0.32031) "
      ]
     },
     "metadata": {},
     "output_type": "display_data"
    },
    {
     "name": "stdout",
     "output_type": "stream",
     "text": [
      "For 2-norm lasso problem with λ=0.01, the optimal value is 2.9123384884199224 and the solution image is shown above.\n"
     ]
    }
   ],
   "source": [
    "Θ = []\n",
    "for p in 1:2\n",
    "    for λ in 0:8\n",
    "        opt, img = lasso(baboon, 10^(-λ/4), p)\n",
    "        push!(Θ, (opt, img))\n",
    "        println(\"For $p-norm lasso problem with λ=$(10^(-λ/4)), the optimal value is $opt and the solution image is shown above.\")\n",
    "        display(Gray.(img))\n",
    "    end\n",
    "end"
   ]
  },
  {
   "cell_type": "code",
   "execution_count": null,
   "metadata": {},
   "outputs": [],
   "source": []
  }
 ],
 "metadata": {
  "@webio": {
   "lastCommId": null,
   "lastKernelId": null
  },
  "kernelspec": {
   "display_name": "Julia 1.1.0",
   "language": "julia",
   "name": "julia-1.1"
  },
  "language_info": {
   "file_extension": ".jl",
   "mimetype": "application/julia",
   "name": "julia",
   "version": "1.1.0"
  }
 },
 "nbformat": 4,
 "nbformat_minor": 2
}
